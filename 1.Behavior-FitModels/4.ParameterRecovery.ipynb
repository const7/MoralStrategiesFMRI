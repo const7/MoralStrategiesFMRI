{
 "cells": [
  {
   "cell_type": "markdown",
   "metadata": {},
   "source": [
    "Code to run model parameter recovery tests"
   ]
  },
  {
   "cell_type": "code",
   "execution_count": 1,
   "metadata": {},
   "outputs": [],
   "source": [
    "%matplotlib inline\n",
    "import os\n",
    "import glob\n",
    "\n",
    "import numpy as np\n",
    "import pandas as pd\n",
    "import scipy\n",
    "from scipy import stats as ss\n",
    "import matplotlib.pyplot as plt\n",
    "import seaborn as sns\n",
    "\n",
    "from scipy.optimize import least_squares\n",
    "from scipy.io import loadmat\n",
    "\n",
    "import sys\n",
    "sys.path.append('/project/3014018.02/analysis_mri/'+\n",
    "            'DataSharingCollection/Code/1.Behavior-FitModels/Functions/')\n",
    "import choiceModels, costFunctions, penalizedModelFit\n",
    "\n",
    "base_dir = '/project/3014018.02/analysis_mri/DataSharingCollection'"
   ]
  },
  {
   "cell_type": "markdown",
   "metadata": {},
   "source": [
    "## Run"
   ]
  },
  {
   "cell_type": "code",
   "execution_count": 46,
   "metadata": {},
   "outputs": [
    {
     "name": "stdout",
     "output_type": "stream",
     "text": [
      "0 0.410898055393 0.0344542493269 0.39972923205484995 0.068698419296332\n",
      "1 0.0250882233949 0.0764369284325 0.02227402693044802 0.05611526716742548\n",
      "2 0.00322694300647 0.0633375004383 0.0075159298450058545 0.047294970764228096\n",
      "3 0.16886966035 -0.00400275095652 0.1762897268259904 -0.00510266287427931\n",
      "4 0.230368846735 0.0330117713312 0.22992615681562767 0.0479195149853016\n",
      "5 0.133490255901 0.0671007888115 0.1349202564822684 0.08155730321444357\n",
      "6 0.335097396223 -0.0430059352776 0.3459102706951224 -0.0410618909568958\n",
      "7 0.304930451788 -0.0812750382751 0.30386665750998393 -0.07805674705308559\n",
      "8 0.343698202928 0.0918689705491 0.3451604569404876 0.03471613084539253\n",
      "9 0.365118472215 0.0453581302926 0.36357637248564023 0.03084302548946552\n",
      "10 0.458567566252 0.0782367847943 0.4546964313438655 0.07415464257035251\n",
      "11 0.30435767653 0.0770901385075 0.3008902318676533 0.07208252916759195\n",
      "12 0.429206751766 0.0589541415382 0.43227916905460323 0.0816552878404577\n",
      "13 0.0776732671927 -0.0334322876947 0.08000260949707086 -0.035064661641227346\n",
      "14 0.494695862051 0.0299880364327 0.48167030788299864 0.023512762550197408\n",
      "15 0.0841865500973 -0.0952936888828 0.07928481199914521 -0.08237326662394358\n",
      "16 0.115239667832 0.0497624327947 0.09920870920177816 0.06947166001344385\n",
      "17 0.105108696667 -0.0415783070713 0.10192780364172005 -0.04168324029714738\n",
      "18 0.165839215575 -0.0526639942374 0.17406588139291626 -0.05348601896433883\n",
      "19 0.428989950476 0.0999027783965 0.42936241700600264 0.042919447795121524\n",
      "20 0.101830004479 -0.0431084867277 0.11036757270731058 -0.04947149312747272\n",
      "21 0.037928384789 0.0513767813335 0.03114404155713979 0.03678878498433108\n",
      "22 0.483852924568 -0.0352120128888 0.4776519674366311 -0.04303084707804785\n",
      "23 0.214988401139 -0.00783788509642 0.210743184975841 -0.00619118217205619\n",
      "24 0.148006046597 -0.0355296273687 0.14410417446487056 -0.037597266796418415\n",
      "25 0.30291414547 -0.0122345410121 0.30225263015651166 -0.011036191255812068\n",
      "26 0.0543298571129 0.0701682083698 0.0515355765818529 0.03839605597167875\n",
      "27 0.401223377569 0.0980942306027 0.40169642161276037 0.03568232888632921\n",
      "28 0.181917175721 -0.0146281571352 0.17905906560762547 -0.013028066010317077\n",
      "29 0.46132083063 0.058854727716 0.44933247478044985 0.0392788564871871\n",
      "30 0.253112769892 -0.071447577857 0.2615567046673992 -0.07970663584185361\n",
      "31 0.347670413319 0.0292295507714 0.33767288639565146 0.06318716676216482\n",
      "32 0.31446807625 -0.00578624017712 0.3104091572708007 -0.00547425466021215\n",
      "33 0.214760708645 -0.0520598623252 0.20120249027470177 -0.05331038910762233\n",
      "34 0.294049090498 0.0653248329686 0.296536497536196 0.029581711601069132\n",
      "35 0.128731870543 0.00961392972781 0.13331224993827268 0.009390445957542091\n",
      "36 0.171414930853 -0.0130337025205 0.18312992518139276 -0.01642374604416068\n",
      "37 0.0387129244086 0.0318992186968 0.036841865879485514 0.07467613674785209\n",
      "38 0.206198173365 -0.088070994656 0.20727782376478698 -0.09072877344344711\n",
      "39 0.495429160838 0.00024280933913 0.4787901857707106 -0.0005770659679495832\n",
      "40 0.24997166458 -0.0165068729783 0.24770752465993132 -0.017227429516836604\n",
      "41 0.138920472137 -0.07596924894 0.13514889587112908 -0.09715302441621522\n",
      "42 0.193482364532 0.0148338989731 0.1950133067196947 0.01475909726833967\n",
      "43 0.089513277969 -0.0270093341403 0.0865327002587929 -0.02572895376478863\n",
      "44 0.0233272761708 -0.0101700889882 0.01355894104062864 -0.004948613469952275\n",
      "45 0.49305115712 0.00876793787668 0.4902309345345208 0.010660439910249779\n",
      "46 0.140127311373 0.0814046732405 0.14111176331976094 0.08247654040247111\n",
      "47 0.191824074615 0.0835268319574 0.19053778794501763 0.041225555036925154\n",
      "48 0.014986997864 0.00242623129563 0.009006614016469683 0.010483385852272098\n",
      "49 0.461275952716 -0.0922254647401 0.4589267065281583 -0.08539493491468998\n",
      "50 0.438328531605 0.0133821759623 0.4335553982215419 0.012216730463856806\n",
      "51 0.411896571989 0.0725736469515 0.4132669260444404 0.040451537057348254\n",
      "52 0.0730928923349 -0.0527259169853 0.07524433862330983 -0.04615714226921869\n",
      "53 0.355541530277 0.0049354431969 0.35619036170937063 0.01763127041589896\n",
      "54 0.0959634222379 -0.0117696486869 0.09591679582852401 -0.009531002720807924\n",
      "55 0.482998013396 -0.0213748321925 0.47686510654323694 -0.019908417525232674\n",
      "56 0.0360192772808 -0.0440439423671 0.03078875831271296 -0.020014326053232608\n"
     ]
    }
   ],
   "source": [
    "dat = pd.read_csv(os.path.join(base_dir,'Data/1.TaskBehavior/trialSet.csv'),header=0,index_col=0)\n",
    "dat.columns = ['inv','mult']\n",
    "dat.head()\n",
    "thetaPhiLen = 57\n",
    "niter = 1000\n",
    "results = pd.DataFrame(columns=['trueTheta','truePhi','recovTheta','recovPhi','cost','r'])\n",
    "for i in range(thetaPhiLen):\n",
    "    print i,\n",
    "    trueTheta, truePhi = [scipy.random.uniform()/2,scipy.random.uniform()/5-0.1]\n",
    "    trueDat = dat.copy()\n",
    "    for j,trial in trueDat.iterrows():\n",
    "        inv,mult = trial\n",
    "        trueDat.loc[j,'ret'] = choiceModels.MP_model_ppSOE(inv,mult,0,trueTheta,truePhi)\n",
    "    trueDat['exp'] = 0\n",
    "#     Now fit\n",
    "    fitIters = np.zeros([niter,5])\n",
    "    for i in range(niter):\n",
    "        param0 = [scipy.random.uniform()/2,scipy.random.uniform()/5-0.1]\n",
    "        fitIters[i,0:2] = param0[:]\n",
    "        res_lsq = least_squares(costFunctions.MP_ppSOE_costfun, param0, args=(trueDat,),\n",
    "                                kwargs={'printStep':False,'resid_share':False},\n",
    "                                diff_step=.05,bounds=([0,-.1],[.5,.1]),)\n",
    "        theta,phi = res_lsq.x\n",
    "        cost = res_lsq.cost\n",
    "        fitIters[i,2:5] = [theta,phi,cost]\n",
    "    cost_selected = np.min(fitIters[:,4]) #Minimal cost\n",
    "    recovTheta = fitIters[fitIters[:,4]==cost_selected,2][0] # First theta with minimal cost\n",
    "    recovPhi = fitIters[fitIters[:,4]==cost_selected,3][0] # First theta with minimal cost\n",
    "    print trueTheta, truePhi, recovTheta, recovPhi\n",
    "    # Simulate with fitted\n",
    "    recovDat = dat.copy()\n",
    "    for j,trial in recovDat.iterrows():\n",
    "        inv,mult = trial\n",
    "        recovDat.loc[j,'ret'] = choiceModels.MP_model_ppSOE(inv,mult,0,recovTheta,recovPhi)\n",
    "    r = scipy.stats.pearsonr(trueDat['ret'],recovDat['ret'])[0]\n",
    "    # Store\n",
    "    results = results.append(pd.DataFrame([[trueTheta,truePhi,recovTheta,recovPhi,cost_selected,r]],\n",
    "                                         columns=results.columns))"
   ]
  },
  {
   "cell_type": "code",
   "execution_count": 47,
   "metadata": {},
   "outputs": [
    {
     "data": {
      "text/html": [
       "<div>\n",
       "<style scoped>\n",
       "    .dataframe tbody tr th:only-of-type {\n",
       "        vertical-align: middle;\n",
       "    }\n",
       "\n",
       "    .dataframe tbody tr th {\n",
       "        vertical-align: top;\n",
       "    }\n",
       "\n",
       "    .dataframe thead th {\n",
       "        text-align: right;\n",
       "    }\n",
       "</style>\n",
       "<table border=\"1\" class=\"dataframe\">\n",
       "  <thead>\n",
       "    <tr style=\"text-align: right;\">\n",
       "      <th></th>\n",
       "      <th>trueTheta</th>\n",
       "      <th>truePhi</th>\n",
       "      <th>recovTheta</th>\n",
       "      <th>recovPhi</th>\n",
       "      <th>cost</th>\n",
       "      <th>r</th>\n",
       "    </tr>\n",
       "  </thead>\n",
       "  <tbody>\n",
       "    <tr>\n",
       "      <th>0</th>\n",
       "      <td>0.410898</td>\n",
       "      <td>0.034454</td>\n",
       "      <td>0.399729</td>\n",
       "      <td>0.068698</td>\n",
       "      <td>0.0</td>\n",
       "      <td>1.0</td>\n",
       "    </tr>\n",
       "    <tr>\n",
       "      <th>0</th>\n",
       "      <td>0.025088</td>\n",
       "      <td>0.076437</td>\n",
       "      <td>0.022274</td>\n",
       "      <td>0.056115</td>\n",
       "      <td>0.0</td>\n",
       "      <td>1.0</td>\n",
       "    </tr>\n",
       "    <tr>\n",
       "      <th>0</th>\n",
       "      <td>0.003227</td>\n",
       "      <td>0.063338</td>\n",
       "      <td>0.007516</td>\n",
       "      <td>0.047295</td>\n",
       "      <td>0.0</td>\n",
       "      <td>1.0</td>\n",
       "    </tr>\n",
       "    <tr>\n",
       "      <th>0</th>\n",
       "      <td>0.168870</td>\n",
       "      <td>-0.004003</td>\n",
       "      <td>0.176290</td>\n",
       "      <td>-0.005103</td>\n",
       "      <td>0.0</td>\n",
       "      <td>1.0</td>\n",
       "    </tr>\n",
       "    <tr>\n",
       "      <th>0</th>\n",
       "      <td>0.230369</td>\n",
       "      <td>0.033012</td>\n",
       "      <td>0.229926</td>\n",
       "      <td>0.047920</td>\n",
       "      <td>0.0</td>\n",
       "      <td>1.0</td>\n",
       "    </tr>\n",
       "  </tbody>\n",
       "</table>\n",
       "</div>"
      ],
      "text/plain": [
       "   trueTheta   truePhi  recovTheta  recovPhi  cost    r\n",
       "0   0.410898  0.034454    0.399729  0.068698   0.0  1.0\n",
       "0   0.025088  0.076437    0.022274  0.056115   0.0  1.0\n",
       "0   0.003227  0.063338    0.007516  0.047295   0.0  1.0\n",
       "0   0.168870 -0.004003    0.176290 -0.005103   0.0  1.0\n",
       "0   0.230369  0.033012    0.229926  0.047920   0.0  1.0"
      ]
     },
     "execution_count": 47,
     "metadata": {},
     "output_type": "execute_result"
    }
   ],
   "source": [
    "results.head()"
   ]
  },
  {
   "cell_type": "code",
   "execution_count": 48,
   "metadata": {},
   "outputs": [
    {
     "name": "stdout",
     "output_type": "stream",
     "text": [
      "0.9998656216910521\n",
      "(0.9992306708913161, 4.698094118580572e-79)\n",
      "(0.9250378133879963, 8.761751138466457e-25)\n"
     ]
    }
   ],
   "source": [
    "trialCorr = np.mean(results['r'])\n",
    "thetaCorr = scipy.stats.pearsonr(results['trueTheta'],results['recovTheta'])\n",
    "phiCorr = scipy.stats.pearsonr(results['truePhi'],results['recovPhi'])\n",
    "print trialCorr\n",
    "print thetaCorr\n",
    "print phiCorr"
   ]
  },
  {
   "cell_type": "code",
   "execution_count": 49,
   "metadata": {},
   "outputs": [
    {
     "data": {
      "text/plain": [
       "Ttest_1sampResult(statistic=10889.270469214096, pvalue=7.158468246298413e-176)"
      ]
     },
     "execution_count": 49,
     "metadata": {},
     "output_type": "execute_result"
    }
   ],
   "source": [
    "scipy.stats.ttest_1samp(results['r'],0,nan_policy='omit')"
   ]
  },
  {
   "cell_type": "code",
   "execution_count": 50,
   "metadata": {},
   "outputs": [
    {
     "data": {
      "text/plain": [
       "56"
      ]
     },
     "execution_count": 50,
     "metadata": {},
     "output_type": "execute_result"
    }
   ],
   "source": [
    "sum(~np.isnan(results['r']))"
   ]
  },
  {
   "cell_type": "code",
   "execution_count": 51,
   "metadata": {},
   "outputs": [
    {
     "data": {
      "text/plain": [
       "Text(0.5,1,'Phi')"
      ]
     },
     "execution_count": 51,
     "metadata": {},
     "output_type": "execute_result"
    },
    {
     "data": {
      "image/png": "[encoded data removed]",
      "text/plain": [
       "<Figure size 288x288 with 1 Axes>"
      ]
     },
     "metadata": {},
     "output_type": "display_data"
    }
   ],
   "source": [
    "fig,ax = plt.subplots(1,1,figsize=[4,4])\n",
    "ax.scatter(results['truePhi'],results['recovPhi'])\n",
    "plt.xlabel('True'); plt.ylabel('Recovered'); plt.title('Phi')"
   ]
  },
  {
   "cell_type": "code",
   "execution_count": 52,
   "metadata": {},
   "outputs": [],
   "source": [
    "results.to_csv(os.path.join(base_dir,\n",
    "    'Results/1.Behavior-FitModels/ParameterRecovery/RecoveryStats_57simSubs.csv'))"
   ]
  },
  {
   "cell_type": "code",
   "execution_count": null,
   "metadata": {},
   "outputs": [],
   "source": []
  }
 ],
 "metadata": {
  "kernelspec": {
   "display_name": "Python 2",
   "language": "python",
   "name": "python2"
  },
  "language_info": {
   "codemirror_mode": {
    "name": "ipython",
    "version": 2
   },
   "file_extension": ".py",
   "mimetype": "text/x-python",
   "name": "python",
   "nbconvert_exporter": "python",
   "pygments_lexer": "ipython2",
   "version": "2.7.15"
  }
 },
 "nbformat": 4,
 "nbformat_minor": 2
}
