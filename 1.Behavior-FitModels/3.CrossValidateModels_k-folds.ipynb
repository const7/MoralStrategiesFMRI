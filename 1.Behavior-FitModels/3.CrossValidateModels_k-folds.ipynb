{
 "cells": [
  {
   "cell_type": "markdown",
   "metadata": {},
   "source": [
    "Code to run model cross-validation (i.e. fit on 80% of data and test on remaining 20%)."
   ]
  },
  {
   "cell_type": "code",
   "execution_count": 3,
   "metadata": {
    "scrolled": true
   },
   "outputs": [],
   "source": [
    "%matplotlib inline\n",
    "import os, glob, warnings, sys\n",
    "warnings.filterwarnings(\"ignore\", message=\"numpy.dtype size changed\")\n",
    "\n",
    "import numpy as np\n",
    "import pandas as pd\n",
    "import scipy\n",
    "from scipy import stats as ss\n",
    "import matplotlib.pyplot as plt\n",
    "import seaborn as sns\n",
    "\n",
    "from scipy.optimize import least_squares\n",
    "from scipy.io import loadmat\n",
    "\n",
    "sys.path.append('/project/3014018.02/analysis_mri/DataSharingCollection/Code/1.Behavior-FitModels/Functions/')\n",
    "import choiceModels, costFunctions, penalizedModelFit\n",
    "\n",
    "base_dir = '/project/3014018.02/analysis_mri/DataSharingCollection'"
   ]
  },
  {
   "cell_type": "code",
   "execution_count": null,
   "metadata": {
    "scrolled": true
   },
   "outputs": [],
   "source": [
    "import subprocess\n",
    "subNums = np.array(pd.read_csv(os.path.join(base_dir,'Data/subjectsIncluded_batch1.csv'),header=None).T.append(\n",
    "            pd.read_csv(os.path.join(base_dir,'Data/subjectsIncluded_batch2.csv'),header=None).T)).T[0]\n",
    "print subNums\n",
    "print len(np.unique(subNums))\n",
    "niter = 1000\n",
    "jobs_iterations = [2]\n",
    "n_folds = 5\n",
    "shuffle=True\n",
    "for jobs_iteration in jobs_iterations:\n",
    "    if os.path.isdir(os.path.join(base_dir,'Results/1.Behavior-FitModels/Iteration_%i'%jobs_iteration))==False:\n",
    "        os.mkdir(os.path.join(base_dir,'Results/1.Behavior-FitModels/Iteration_%i'%jobs_iteration))\n",
    "    jobids = pd.DataFrame(columns=['sub','jobid'])\n",
    "    for sub in subNums:\n",
    "        if ~os.path.isfile(os.path.join(base_dir,\n",
    "                    'Results/1.Behavior-FitModels/Iteration_%i/Results_sub-%03d_%i-folds.csv'%(\n",
    "                        jobs_iteration,sub,n_folds))):\n",
    "            cmd = ['/home/decision/jervbaa/.conda/envs/nltools_env/bin/python2.7',\n",
    "                '/home/decision/jervbaa/Software/SubmitToCluster.py',\n",
    "                '-length','5:00:00',\n",
    "                '-memory','2GB',\n",
    "                '-name','CVmodel_sub-%02d-%i'%(sub,jobs_iteration),\n",
    "                '-logfiledir',os.path.join(base_dir,'Results/1.Behavior-FitModels/Logfiles/'),\n",
    "                '-command','python2.7 %s/Code/1.Behavior-FitModels/Functions/crossValidateModel.py %i %i %i %i %s'%(\n",
    "                    base_dir,sub,niter,jobs_iteration,n_folds,shuffle),\n",
    "                ]\n",
    "            out = subprocess.check_output(' '.join(cmd),shell=True)\n",
    "            print out\n",
    "            jobid = out[-27:-1]\n",
    "            tmp = pd.DataFrame(columns=jobids.columns)\n",
    "            tmp.loc[0,'sub'] = sub\n",
    "            tmp.loc[0,'jobid'] = jobid\n",
    "            jobids = jobids.append(tmp)\n",
    "    jobids.to_csv(os.path.join(base_dir,'Results/1.Behavior-FitModels/Logfiles/jobids_%i-folds_iteration_%i.csv'%(\n",
    "        n_folds,jobs_iteration)))"
   ]
  },
  {
   "cell_type": "markdown",
   "metadata": {},
   "source": [
    "## Compute average MSE and R per subject across folds"
   ]
  },
  {
   "cell_type": "code",
   "execution_count": 4,
   "metadata": {
    "scrolled": true
   },
   "outputs": [
    {
     "name": "stdout",
     "output_type": "stream",
     "text": [
      "[124 126 128 129 130 131 132 133 134 135 136 137 138 139 140 141 142 143\n",
      " 144 145 146 148 150 151 152 153 154 156 157 158 159 160 161 162 164 165\n",
      " 171 172 173 174 175 176 177 178 179 180 181 182 183 184 185 186 187 189\n",
      " 190 191 192]\n",
      "57\n"
     ]
    },
    {
     "name": "stderr",
     "output_type": "stream",
     "text": [
      "/home/decision/jervbaa/.conda/envs/hmtg_fmri_nc/lib/python2.7/site-packages/scipy/stats/stats.py:3010: RuntimeWarning: invalid value encountered in double_scalars\n",
      "  r = r_num / r_den\n"
     ]
    }
   ],
   "source": [
    "subNums = np.array(pd.read_csv(os.path.join(base_dir,'Data/subjectsIncluded_batch1.csv'),header=None).T.append(\n",
    "            pd.read_csv(os.path.join(base_dir,'Data/subjectsIncluded_batch2.csv'),header=None).T)).T[0]\n",
    "n_folds = 5\n",
    "iteration = 1\n",
    "print subNums\n",
    "print len(np.unique(subNums))\n",
    "\n",
    "model = 'MP_ppSOE'\n",
    "if model == 'MP_ppSOE':\n",
    "    modelUse = choiceModels.MP_model_ppSOE\n",
    "else:\n",
    "    modelUse = 'needtospecify'\n",
    "dat = pd.read_csv(os.path.join(base_dir,'Data/1.TaskBehavior/allDataLong.csv'),header=None,index_col=None)\n",
    "dat.columns=['sub','inv','mult','ret','exp','fair','soc1','soc2']\n",
    "dat = dat.loc[dat['inv']>0,:]\n",
    "\n",
    "cv_results = pd.DataFrame(columns=['sub','SSE','MSE','r','rsq'])\n",
    "\n",
    "for sub in subNums:\n",
    "    results = pd.read_csv(os.path.join(base_dir,\n",
    "                     'Results/1.Behavior-FitModels/Iteration_%i/Results_sub-%03d_%i-folds.csv'%(\n",
    "                         iteration,sub,n_folds)),index_col=0)\n",
    "    subDat = dat.loc[dat['sub']==sub,:].reset_index(drop=True)\n",
    "    \n",
    "    for i,row in results.iterrows():\n",
    "        theta = row['theta']\n",
    "        phi = row['phi']\n",
    "        string = row['test'][1:-1]+' '\n",
    "        trials = [int(s) for s in string.split() if s.isdigit()]\n",
    "        for trial in trials:\n",
    "            inv = subDat.loc[trial,'inv']\n",
    "            mult = subDat.loc[trial,'mult']\n",
    "            subDat.loc[trial,'pred'] = modelUse(inv,mult,0,theta,phi)\n",
    "    \n",
    "    SSE = np.sum(np.square(np.array(subDat['ret'])-np.array(subDat['pred'])))\n",
    "    MSE = SSE/len(subDat)\n",
    "    r = scipy.stats.pearsonr(subDat['ret'],subDat['pred'])[0]\n",
    "    r2 = r**2\n",
    "    cv_results = cv_results.append(pd.DataFrame([[sub,SSE,MSE,r,r2]],columns=cv_results.columns))\n",
    "# Note: SSE != SSE2! SSE2 is SSE on held-out data, SSE is SSE on training data."
   ]
  },
  {
   "cell_type": "code",
   "execution_count": 5,
   "metadata": {},
   "outputs": [
    {
     "data": {
      "text/html": [
       "<div>\n",
       "<style scoped>\n",
       "    .dataframe tbody tr th:only-of-type {\n",
       "        vertical-align: middle;\n",
       "    }\n",
       "\n",
       "    .dataframe tbody tr th {\n",
       "        vertical-align: top;\n",
       "    }\n",
       "\n",
       "    .dataframe thead th {\n",
       "        text-align: right;\n",
       "    }\n",
       "</style>\n",
       "<table border=\"1\" class=\"dataframe\">\n",
       "  <thead>\n",
       "    <tr style=\"text-align: right;\">\n",
       "      <th></th>\n",
       "      <th>sub</th>\n",
       "      <th>SSE</th>\n",
       "      <th>MSE</th>\n",
       "      <th>r</th>\n",
       "      <th>rsq</th>\n",
       "    </tr>\n",
       "  </thead>\n",
       "  <tbody>\n",
       "    <tr>\n",
       "      <th>0</th>\n",
       "      <td>124</td>\n",
       "      <td>83.0</td>\n",
       "      <td>1.092105</td>\n",
       "      <td>0.955983</td>\n",
       "      <td>0.913903</td>\n",
       "    </tr>\n",
       "    <tr>\n",
       "      <th>0</th>\n",
       "      <td>126</td>\n",
       "      <td>259.0</td>\n",
       "      <td>3.407895</td>\n",
       "      <td>0.953970</td>\n",
       "      <td>0.910059</td>\n",
       "    </tr>\n",
       "    <tr>\n",
       "      <th>0</th>\n",
       "      <td>128</td>\n",
       "      <td>255.0</td>\n",
       "      <td>3.355263</td>\n",
       "      <td>0.976844</td>\n",
       "      <td>0.954224</td>\n",
       "    </tr>\n",
       "    <tr>\n",
       "      <th>0</th>\n",
       "      <td>129</td>\n",
       "      <td>229.0</td>\n",
       "      <td>3.013158</td>\n",
       "      <td>0.962628</td>\n",
       "      <td>0.926653</td>\n",
       "    </tr>\n",
       "    <tr>\n",
       "      <th>0</th>\n",
       "      <td>130</td>\n",
       "      <td>473.0</td>\n",
       "      <td>6.223684</td>\n",
       "      <td>0.917563</td>\n",
       "      <td>0.841923</td>\n",
       "    </tr>\n",
       "  </tbody>\n",
       "</table>\n",
       "</div>"
      ],
      "text/plain": [
       "   sub    SSE       MSE         r       rsq\n",
       "0  124   83.0  1.092105  0.955983  0.913903\n",
       "0  126  259.0  3.407895  0.953970  0.910059\n",
       "0  128  255.0  3.355263  0.976844  0.954224\n",
       "0  129  229.0  3.013158  0.962628  0.926653\n",
       "0  130  473.0  6.223684  0.917563  0.841923"
      ]
     },
     "execution_count": 5,
     "metadata": {},
     "output_type": "execute_result"
    }
   ],
   "source": [
    "cv_results.head()"
   ]
  },
  {
   "cell_type": "code",
   "execution_count": 15,
   "metadata": {
    "scrolled": true
   },
   "outputs": [],
   "source": [
    "cv_results.reset_index(drop=True).to_csv(os.path.join(base_dir,\n",
    "              'Results/1.Behavior-FitModels/CV_k-folds_true_results.csv'))"
   ]
  },
  {
   "cell_type": "code",
   "execution_count": 6,
   "metadata": {},
   "outputs": [
    {
     "name": "stdout",
     "output_type": "stream",
     "text": [
      "5.37096029547553\n"
     ]
    }
   ],
   "source": [
    "trueMSE = np.mean(cv_results['MSE'])\n",
    "print trueMSE"
   ]
  },
  {
   "cell_type": "code",
   "execution_count": 17,
   "metadata": {},
   "outputs": [
    {
     "data": {
      "text/plain": [
       "Text(0.5,1,'Model fit on held-out data')"
      ]
     },
     "execution_count": 17,
     "metadata": {},
     "output_type": "execute_result"
    },
    {
     "data": {
      "image/png": "[encoded data removed]",
      "text/plain": [
       "<Figure size 432x288 with 1 Axes>"
      ]
     },
     "metadata": {},
     "output_type": "display_data"
    }
   ],
   "source": [
    "sns.boxplot(cv_results['MSE'])\n",
    "plt.xlabel('Mean squared error per trial')\n",
    "plt.title('Model fit on held-out data')"
   ]
  },
  {
   "cell_type": "code",
   "execution_count": 18,
   "metadata": {},
   "outputs": [
    {
     "data": {
      "text/plain": [
       "Text(0.5,1,'Model fit on held-out data')"
      ]
     },
     "execution_count": 18,
     "metadata": {},
     "output_type": "execute_result"
    },
    {
     "data": {
      "image/png": "[encoded data removed]",
      "text/plain": [
       "<Figure size 432x288 with 1 Axes>"
      ]
     },
     "metadata": {},
     "output_type": "display_data"
    }
   ],
   "source": [
    "sns.boxplot(cv_results['rsq'])\n",
    "plt.xlabel('R squared')\n",
    "plt.title('Model fit on held-out data')"
   ]
  },
  {
   "cell_type": "code",
   "execution_count": 19,
   "metadata": {},
   "outputs": [
    {
     "data": {
      "text/plain": [
       "count    56.000000\n",
       "mean      0.826737\n",
       "std       0.159551\n",
       "min       0.237713\n",
       "25%       0.810419\n",
       "50%       0.864233\n",
       "75%       0.923208\n",
       "max       0.988054\n",
       "Name: rsq, dtype: float64"
      ]
     },
     "execution_count": 19,
     "metadata": {},
     "output_type": "execute_result"
    }
   ],
   "source": [
    "cv_results['rsq'].describe()"
   ]
  },
  {
   "cell_type": "code",
   "execution_count": 20,
   "metadata": {},
   "outputs": [
    {
     "data": {
      "text/plain": [
       "0.8642327248333666"
      ]
     },
     "execution_count": 20,
     "metadata": {},
     "output_type": "execute_result"
    }
   ],
   "source": [
    "np.median(cv_results.loc[~np.isnan(cv_results['rsq']),'rsq'],)"
   ]
  },
  {
   "cell_type": "markdown",
   "metadata": {},
   "source": [
    "## Stats"
   ]
  },
  {
   "cell_type": "code",
   "execution_count": 21,
   "metadata": {},
   "outputs": [
    {
     "data": {
      "text/plain": [
       "Ttest_1sampResult(statistic=66.14769411618579, pvalue=4.1198189957816575e-54)"
      ]
     },
     "execution_count": 21,
     "metadata": {},
     "output_type": "execute_result"
    }
   ],
   "source": [
    "scipy.stats.ttest_1samp(cv_results['r'],0,nan_policy='omit')"
   ]
  },
  {
   "cell_type": "code",
   "execution_count": 22,
   "metadata": {},
   "outputs": [
    {
     "data": {
      "text/plain": [
       "56"
      ]
     },
     "execution_count": 22,
     "metadata": {},
     "output_type": "execute_result"
    }
   ],
   "source": [
    "sum(~np.isnan(cv_results['r']))"
   ]
  },
  {
   "cell_type": "code",
   "execution_count": null,
   "metadata": {},
   "outputs": [],
   "source": []
  },
  {
   "cell_type": "code",
   "execution_count": null,
   "metadata": {},
   "outputs": [],
   "source": []
  }
 ],
 "metadata": {
  "kernelspec": {
   "display_name": "Python 2",
   "language": "python",
   "name": "python2"
  },
  "language_info": {
   "codemirror_mode": {
    "name": "ipython",
    "version": 2
   },
   "file_extension": ".py",
   "mimetype": "text/x-python",
   "name": "python",
   "nbconvert_exporter": "python",
   "pygments_lexer": "ipython2",
   "version": "2.7.15"
  }
 },
 "nbformat": 4,
 "nbformat_minor": 2
}
