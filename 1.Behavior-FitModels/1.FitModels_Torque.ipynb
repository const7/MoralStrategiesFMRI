{
 "cells": [
  {
   "cell_type": "markdown",
   "metadata": {},
   "source": [
    "This notebook loads behavioral data from the Hidden Multiplier Trust Game fMRI experiment and fits the different utility models described in the paper to each participant's dataset. The model fitting jobs are sent in parallel to the computing cluster, which runs the Python scripts and functions located in the Functions folder. Refer to those scripts to see the actual model code. Results are stored in Results/1.Behavior-FitModels."
   ]
  },
  {
   "cell_type": "code",
   "execution_count": 1,
   "metadata": {
    "scrolled": true
   },
   "outputs": [],
   "source": [
    "%matplotlib inline\n",
    "import os, glob, warnings, sys\n",
    "warnings.filterwarnings(\"ignore\", message=\"numpy.dtype size changed\")\n",
    "\n",
    "import numpy as np\n",
    "import pandas as pd\n",
    "import scipy\n",
    "import matplotlib.pyplot as plt\n",
    "import seaborn as sns\n",
    "\n",
    "from scipy.optimize import least_squares\n",
    "from scipy.io import loadmat\n",
    "\n",
    "sys.path.append('/project/3014018.02/analysis_mri/'+\n",
    "                'DataSharingCollection/Code/1.Behavior-FitModels/Functions/')\n",
    "import choiceModels, costFunctions, penalizedModelFit\n",
    "\n",
    "base_dir = '/project/3014018.02/analysis_mri/DataSharingCollection'"
   ]
  },
  {
   "cell_type": "code",
   "execution_count": null,
   "metadata": {
    "scrolled": true
   },
   "outputs": [],
   "source": [
    "import subprocess\n",
    "subNums = np.array(pd.read_csv(os.path.join(base_dir,'Data/subjectsIncluded_batch1.csv'),header=None).T.append(\n",
    "            pd.read_csv(os.path.join(base_dir,'Data/subjectsIncluded_batch2.csv'),header=None).T)).T[0]\n",
    "print subNums\n",
    "print len(np.unique(subNums))\n",
    "niter = 100\n",
    "jobs_iterations = np.arange(1,11,1)\n",
    "for jobs_iteration in jobs_iterations:\n",
    "    if os.path.isdir(os.path.join(base_dir,'Results/1.Behavior-FitModels/Iteration_%i'%jobs_iteration))==False:\n",
    "        os.mkdir(os.path.join(base_dir,'Results/1.Behavior-FitModels/Iteration_%i'%jobs_iteration))\n",
    "    jobids = pd.DataFrame(columns=['sub','jobid'])\n",
    "    for sub in subNums:\n",
    "        if ~os.path.isfile(os.path.join(base_dir,\n",
    "                    'Results/1.FitModel/Iteration_%i/Results_sub-%03d.csv'%(jobs_iteration,sub))):\n",
    "            cmd = ['/home/decision/jervbaa/.conda/envs/hmtg_fmri_nc/bin/python2.7',\n",
    "                '/home/decision/jervbaa/Software/SubmitToCluster.py',\n",
    "                '-length','2:30:00',\n",
    "                '-memory','2GB',\n",
    "                '-name','Fit_MP_model-%02d-%i'%(sub,jobs_iteration),\n",
    "                '-logfiledir',os.path.join(base_dir,'Results/1.Behavior-FitModels/Logfiles/'),\n",
    "                '-command','python2.7 %s/Code/1.Behavior-FitModels/Functions/fitModels.py %i %i %i'%(\n",
    "                    base_dir,sub,niter,jobs_iteration),\n",
    "                ]\n",
    "            out = subprocess.check_output(' '.join(cmd),shell=True)\n",
    "            print out\n",
    "            jobid = out[-27:-1]\n",
    "            tmp = pd.DataFrame(columns=jobids.columns)\n",
    "            tmp.loc[0,'sub'] = sub\n",
    "            tmp.loc[0,'jobid'] = jobid\n",
    "            jobids = jobids.append(tmp)\n",
    "    jobids.to_csv(os.path.join(base_dir,'Results/1.Behavior-FitModels/Logfiles/jobids_iteration_%i.csv'%jobs_iteration))"
   ]
  },
  {
   "cell_type": "markdown",
   "metadata": {},
   "source": [
    "## Aggregate job iterations"
   ]
  },
  {
   "cell_type": "code",
   "execution_count": 4,
   "metadata": {
    "scrolled": true
   },
   "outputs": [
    {
     "name": "stdout",
     "output_type": "stream",
     "text": [
      "[124 126 128 129 130 131 132 133 134 135 136 137 138 139 140 141 142 143\n",
      " 144 145 146 148 150 151 152 153 154 156 157 158 159 160 161 162 164 165\n",
      " 171 172 173 174 175 176 177 178 179 180 181 182 183 184 185 186 187 189\n",
      " 190 191 192]\n",
      "57\n"
     ]
    }
   ],
   "source": [
    "subNums = np.array(pd.read_csv(os.path.join(base_dir,'Data/subjectsIncluded_batch1.csv'),header=None).T.append(\n",
    "            pd.read_csv(os.path.join(base_dir,'Data/subjectsIncluded_batch2.csv'),header=None).T)).T[0]\n",
    "print subNums\n",
    "print len(np.unique(subNums))\n",
    "mean_bests_all = pd.DataFrame()\n",
    "first_bests_all = pd.DataFrame()\n",
    "for sub in subNums:\n",
    "    results = pd.DataFrame()\n",
    "    for iteration in np.arange(1,11,1):\n",
    "        results = results.append(pd.read_csv(os.path.join(base_dir,\n",
    "                     'Results/1.Behavior-FitModels/Iteration_%i/Results_sub-%03d.csv'%(iteration,sub)),index_col=0))\n",
    "    for model in ['GR','GA','GA_ppSOE','IA','MP','MP_ppSOE']:\n",
    "        bestSSE = np.min(results.loc[results['model']==model,'SSE'])\n",
    "        bests = results.loc[(results['SSE'] == bestSSE) & (results['model']==model),:]\n",
    "        mean_bests_all = mean_bests_all.append(bests.groupby(['sub','model']).mean().reset_index())\n",
    "        first_bests_all = first_bests_all.append([bests.iloc[-1,:]])\n",
    "mean_bests_all = mean_bests_all.reset_index(drop=True)\n",
    "first_bests_all = first_bests_all.reset_index(drop=True)\n",
    "mean_bests_all.to_csv(os.path.join(base_dir,'Results/1.Behavior-FitModels/Mean_bests_all.csv'))\n",
    "first_bests_all.to_csv(os.path.join(base_dir,'Results/1.Behavior-FitModels/First_bests_all.csv'))"
   ]
  }
 ],
 "metadata": {
  "kernelspec": {
   "display_name": "Python 2",
   "language": "python",
   "name": "python2"
  },
  "language_info": {
   "codemirror_mode": {
    "name": "ipython",
    "version": 2
   },
   "file_extension": ".py",
   "mimetype": "text/x-python",
   "name": "python",
   "nbconvert_exporter": "python",
   "pygments_lexer": "ipython2",
   "version": "2.7.15"
  }
 },
 "nbformat": 4,
 "nbformat_minor": 2
}
