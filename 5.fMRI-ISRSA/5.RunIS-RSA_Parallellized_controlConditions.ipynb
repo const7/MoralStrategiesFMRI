{
 "cells": [
  {
   "cell_type": "code",
   "execution_count": 1,
   "metadata": {
    "ExecuteTime": {
     "end_time": "2016-12-17T01:31:15.511474",
     "start_time": "2016-12-17T01:31:13.978301"
    },
    "scrolled": true
   },
   "outputs": [],
   "source": [
    "%matplotlib inline\n",
    "import os, glob, warnings, sys\n",
    "warnings.filterwarnings(\"ignore\", message=\"numpy.dtype size changed\")\n",
    "\n",
    "import numpy as np\n",
    "import pandas as pd\n",
    "import matplotlib.pyplot as plt\n",
    "import seaborn as sns\n",
    "from nltools.data import Brain_Data\n",
    "from nltools.mask import expand_mask, collapse_mask\n",
    "import scipy.stats as ss\n",
    "from scipy.stats import pearsonr,spearmanr\n",
    "from scipy.spatial.distance import squareform\n",
    "from sklearn.metrics import pairwise_distances\n",
    "from sklearn.metrics.pairwise import cosine_similarity\n",
    "\n",
    "base_dir = '/project/3014018.02/analysis_mri/DataSharingCollection/'"
   ]
  },
  {
   "cell_type": "markdown",
   "metadata": {},
   "source": [
    "###### Run Intersubject RSA on Response screen (here 'Dec')"
   ]
  },
  {
   "cell_type": "code",
   "execution_count": 24,
   "metadata": {
    "scrolled": true
   },
   "outputs": [],
   "source": [
    "import subprocess\n",
    "py_dir = '/home/decision/jervbaa/.conda/envs/hmtg_fmri_nc/bin/python2.7'\n",
    "\n",
    "# Fixed arguments\n",
    "screen = 'Dec'\n",
    "metric_model = 'euclidean'\n",
    "metric_brain = 'correlation'\n",
    "permutation_method = 'vector'\n",
    "n_permute = 100000\n",
    "nparcel = 200\n",
    "\n",
    "# Loops\n",
    "conds = ['X4']\n",
    "parcels = range(nparcel)\n",
    "complementOnly = True # Sometimes jobs go missing when being sent to the cluster => run this cell again to fill in the blanks only\n",
    "\n",
    "for cond in conds:\n",
    "    jobids = pd.DataFrame(columns=['cond','parcel','jobid'])\n",
    "    pathCur = os.path.join(base_dir,\n",
    "        'Results/3.fMRI-ISRSA/IS-RSA/'+\n",
    "        'IS-RSA_nparcel-%i_perm-%s_%s%s'%(\n",
    "        nparcel,permutation_method,screen,cond))\n",
    "    logPathCur = os.path.join(pathCur,'Logfiles/')\n",
    "    if os.path.exists(pathCur) == False:\n",
    "        os.mkdir(pathCur)\n",
    "    if os.path.exists(logPathCur) == False:\n",
    "        os.mkdir(logPathCur)\n",
    "    for parcel in parcels:\n",
    "        go = True\n",
    "        if complementOnly:\n",
    "            if os.path.isfile(os.path.join(pathCur,'parcel%03d.csv'%parcel)):\n",
    "                go = False\n",
    "        if go:\n",
    "            cmd = ['/home/decision/jervbaa/.conda/envs/hmtg_fmri_nc/bin/python2.7',\n",
    "                '/home/decision/jervbaa/Software/SubmitToCluster.py',\n",
    "                '-length','0:30:00',\n",
    "                '-memory','2GB',\n",
    "                '-name','ISRSA-%s-%03d'%(cond,parcel),\n",
    "                '-logfiledir',logPathCur,\n",
    "                '-command','%s %s/Code/5.fMRI-ISRSA/Functions/ComputeISRSA.py'%(py_dir,base_dir) +\n",
    "                   ' %s %s %i %i %s %s %s %i'%(\n",
    "                    screen,cond,nparcel,parcel,metric_model,metric_brain,\n",
    "                    permutation_method,n_permute),\n",
    "                ]\n",
    "            out = subprocess.check_output(' '.join(cmd),shell=True)\n",
    "            print out\n",
    "            jobid = out[-27:-1]\n",
    "            jobids = jobids.append(pd.DataFrame([[cond,parcel,jobid]],columns=jobids.columns))\n",
    "    jobids.to_csv(os.path.join(pathCur,'jobids.csv'))"
   ]
  },
  {
   "cell_type": "markdown",
   "metadata": {},
   "source": [
    "##### Run intersubject RSA on Player and Investment screens (here 'Face' and 'Inv')"
   ]
  },
  {
   "cell_type": "code",
   "execution_count": 29,
   "metadata": {},
   "outputs": [],
   "source": [
    "import subprocess\n",
    "py_dir = '/home/decision/jervbaa/.conda/envs/hmtg_fmri_nc/bin/python2.7'\n",
    "\n",
    "# Fixed arguments\n",
    "screen = 'Inv'\n",
    "metric_model = 'euclidean'\n",
    "metric_brain = 'correlation'\n",
    "permutation_method = 'vector'\n",
    "n_permute = 100000\n",
    "nparcel = 200\n",
    "\n",
    "# Loops\n",
    "parcels = range(nparcel)\n",
    "complementOnly = True # Sometimes jobs go missing when being sent to the cluster => run this cell again to fill in the blanks only\n",
    "\n",
    "for cond in conds:\n",
    "    jobids = pd.DataFrame(columns=['parcel','jobid'])\n",
    "    pathCur = os.path.join(base_dir,\n",
    "        'Results/3.fMRI-ISRSA/IS-RSA/'+\n",
    "        'IS-RSA_nparcel-%i_perm-%s_%s'%(\n",
    "        nparcel,permutation_method,screen))\n",
    "    logPathCur = os.path.join(pathCur,'Logfiles/')\n",
    "    if os.path.exists(pathCur) == False:\n",
    "        os.mkdir(pathCur)\n",
    "    if os.path.exists(logPathCur) == False:\n",
    "        os.mkdir(logPathCur)\n",
    "    for parcel in parcels:\n",
    "        go = True\n",
    "        if complementOnly:\n",
    "            if os.path.isfile(os.path.join(pathCur,'parcel%03d.csv'%parcel)):\n",
    "                go = False\n",
    "        if go:\n",
    "            cmd = ['/home/decision/jervbaa/.conda/envs/hmtg_fmri_nc/bin/python2.7',\n",
    "                '/home/decision/jervbaa/Software/SubmitToCluster.py',\n",
    "                '-length','0:30:00',\n",
    "                '-memory','2GB',\n",
    "                '-name','ISRSA-%s-%03d'%(cond,parcel),\n",
    "                '-logfiledir',logPathCur,\n",
    "                '-command','%s %s/Code/5.fMRI-ISRSA/Functions/ComputeISRSA_noMultiplier.py'%(py_dir,base_dir) +\n",
    "                   ' %s %i %i %s %s %s %i'%(\n",
    "                    screen,nparcel,parcel,metric_model,metric_brain,\n",
    "                    permutation_method,n_permute),\n",
    "                ]\n",
    "            out = subprocess.check_output(' '.join(cmd),shell=True)\n",
    "            print out\n",
    "            jobid = out[-27:-1]\n",
    "            jobids = jobids.append(pd.DataFrame([[parcel,jobid]],columns=jobids.columns))\n",
    "    jobids.to_csv(os.path.join(pathCur,'jobids.csv'))"
   ]
  },
  {
   "cell_type": "markdown",
   "metadata": {},
   "source": [
    "#### Face"
   ]
  },
  {
   "cell_type": "code",
   "execution_count": null,
   "metadata": {
    "scrolled": true
   },
   "outputs": [],
   "source": [
    "import subprocess\n",
    "py_dir = '/home/decision/jervbaa/.conda/envs/hmtg_fmri_nc/bin/python2.7'\n",
    "\n",
    "# Fixed arguments\n",
    "screen = 'Face'\n",
    "metric_model = 'euclidean'\n",
    "metric_brain = 'correlation'\n",
    "permutation_method = 'vector'\n",
    "n_permute = 100000\n",
    "nparcel = 200\n",
    "\n",
    "# Loops\n",
    "parcels = range(nparcel)\n",
    "complementOnly = True # Sometimes jobs go missing when being sent to the cluster => run this cell again to fill in the blanks only\n",
    "\n",
    "for cond in conds:\n",
    "    jobids = pd.DataFrame(columns=['parcel','jobid'])\n",
    "    pathCur = os.path.join(base_dir,\n",
    "        'Results/3.fMRI-ISRSA/IS-RSA/'+\n",
    "        'IS-RSA_nparcel-%i_perm-%s_%s'%(\n",
    "        nparcel,permutation_method,screen))\n",
    "    logPathCur = os.path.join(pathCur,'Logfiles/')\n",
    "    if os.path.exists(pathCur) == False:\n",
    "        os.mkdir(pathCur)\n",
    "    if os.path.exists(logPathCur) == False:\n",
    "        os.mkdir(logPathCur)\n",
    "    for parcel in parcels:\n",
    "        go = True\n",
    "        if complementOnly:\n",
    "            if os.path.isfile(os.path.join(pathCur,'parcel%03d.csv'%parcel)):\n",
    "                go = False\n",
    "        if go:\n",
    "            cmd = ['/home/decision/jervbaa/.conda/envs/hmtg_fmri_nc/bin/python2.7',\n",
    "                '/home/decision/jervbaa/Software/SubmitToCluster.py',\n",
    "                '-length','0:30:00',\n",
    "                '-memory','2GB',\n",
    "                '-name','ISRSA-%s-%03d'%(cond,parcel),\n",
    "                '-logfiledir',logPathCur,\n",
    "                '-command','%s %s/Code/5.fMRI-ISRSA/Functions/ComputeISRSA_noMultiplier.py'%(py_dir,base_dir) +\n",
    "                   ' %s %i %i %s %s %s %i'%(\n",
    "                    screen,nparcel,parcel,metric_model,metric_brain,\n",
    "                    permutation_method,n_permute),\n",
    "                ]\n",
    "            out = subprocess.check_output(' '.join(cmd),shell=True)\n",
    "            print out\n",
    "            jobid = out[-27:-1]\n",
    "            jobids = jobids.append(pd.DataFrame([[parcel,jobid]],columns=jobids.columns))\n",
    "    jobids.to_csv(os.path.join(pathCur,'jobids.csv'))"
   ]
  },
  {
   "cell_type": "code",
   "execution_count": null,
   "metadata": {},
   "outputs": [],
   "source": []
  }
 ],
 "metadata": {
  "anaconda-cloud": {},
  "kernelspec": {
   "display_name": "Python 2",
   "language": "python",
   "name": "python2"
  },
  "language_info": {
   "codemirror_mode": {
    "name": "ipython",
    "version": 2
   },
   "file_extension": ".py",
   "mimetype": "text/x-python",
   "name": "python",
   "nbconvert_exporter": "python",
   "pygments_lexer": "ipython2",
   "version": "2.7.15"
  }
 },
 "nbformat": 4,
 "nbformat_minor": 1
}
