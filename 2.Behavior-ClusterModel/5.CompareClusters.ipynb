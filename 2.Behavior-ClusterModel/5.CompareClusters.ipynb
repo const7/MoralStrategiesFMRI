{
 "cells": [
  {
   "cell_type": "markdown",
   "metadata": {},
   "source": [
    "Code to compare the participants in the four moral strategy groups on demographics, SVO, guilt inventory, etc."
   ]
  },
  {
   "cell_type": "code",
   "execution_count": 2,
   "metadata": {
    "ExecuteTime": {
     "end_time": "2017-01-18T22:17:22.559876",
     "start_time": "2017-01-18T22:17:21.409416"
    },
    "scrolled": true
   },
   "outputs": [],
   "source": [
    "import sys, os, glob, matplotlib, scipy\n",
    "matplotlib.rcParams['pdf.fonttype'] = 42\n",
    "import numpy as np\n",
    "import matplotlib.pyplot as plt\n",
    "import seaborn as sns\n",
    "import pandas as pd\n",
    "import scipy.stats as ss\n",
    "\n",
    "base_dir = '/project/3014018.02/analysis_mri/DataSharingCollection/'"
   ]
  },
  {
   "cell_type": "markdown",
   "metadata": {
    "collapsed": true
   },
   "source": [
    "## Load clusters"
   ]
  },
  {
   "cell_type": "code",
   "execution_count": 3,
   "metadata": {
    "scrolled": true
   },
   "outputs": [
    {
     "name": "stdout",
     "output_type": "stream",
     "text": [
      "IA    24\n",
      "MO    21\n",
      "GR     7\n",
      "GA     5\n",
      "Name: ClustName, dtype: int64\n"
     ]
    }
   ],
   "source": [
    "fittedParams = pd.read_csv(os.path.join(base_dir,\n",
    "    'Results/2.Behavior-ClusterModel/ParticipantClustering.csv'),index_col=0)\n",
    "print fittedParams['ClustName'].value_counts()"
   ]
  },
  {
   "cell_type": "markdown",
   "metadata": {},
   "source": [
    "## Gender and age"
   ]
  },
  {
   "cell_type": "code",
   "execution_count": 4,
   "metadata": {},
   "outputs": [
    {
     "data": {
      "text/html": [
       "<div>\n",
       "<style scoped>\n",
       "    .dataframe tbody tr th:only-of-type {\n",
       "        vertical-align: middle;\n",
       "    }\n",
       "\n",
       "    .dataframe tbody tr th {\n",
       "        vertical-align: top;\n",
       "    }\n",
       "\n",
       "    .dataframe thead th {\n",
       "        text-align: right;\n",
       "    }\n",
       "</style>\n",
       "<table border=\"1\" class=\"dataframe\">\n",
       "  <thead>\n",
       "    <tr style=\"text-align: right;\">\n",
       "      <th></th>\n",
       "      <th>sub</th>\n",
       "      <th>gender</th>\n",
       "      <th>age</th>\n",
       "      <th>ClustName</th>\n",
       "    </tr>\n",
       "  </thead>\n",
       "  <tbody>\n",
       "    <tr>\n",
       "      <th>0</th>\n",
       "      <td>124</td>\n",
       "      <td>1</td>\n",
       "      <td>19</td>\n",
       "      <td>GR</td>\n",
       "    </tr>\n",
       "    <tr>\n",
       "      <th>1</th>\n",
       "      <td>126</td>\n",
       "      <td>2</td>\n",
       "      <td>19</td>\n",
       "      <td>MO</td>\n",
       "    </tr>\n",
       "    <tr>\n",
       "      <th>2</th>\n",
       "      <td>128</td>\n",
       "      <td>1</td>\n",
       "      <td>22</td>\n",
       "      <td>IA</td>\n",
       "    </tr>\n",
       "    <tr>\n",
       "      <th>3</th>\n",
       "      <td>129</td>\n",
       "      <td>1</td>\n",
       "      <td>20</td>\n",
       "      <td>MO</td>\n",
       "    </tr>\n",
       "    <tr>\n",
       "      <th>4</th>\n",
       "      <td>130</td>\n",
       "      <td>1</td>\n",
       "      <td>25</td>\n",
       "      <td>MO</td>\n",
       "    </tr>\n",
       "  </tbody>\n",
       "</table>\n",
       "</div>"
      ],
      "text/plain": [
       "   sub  gender  age ClustName\n",
       "0  124       1   19        GR\n",
       "1  126       2   19        MO\n",
       "2  128       1   22        IA\n",
       "3  129       1   20        MO\n",
       "4  130       1   25        MO"
      ]
     },
     "execution_count": 4,
     "metadata": {},
     "output_type": "execute_result"
    }
   ],
   "source": [
    "genderAge = pd.read_csv(os.path.join(base_dir,'Data/3.Demographics/GenderAge.csv'),header=None,index_col=None)\n",
    "genderAge.columns = ['sub','gender','age'] # M = 1, F = 2\n",
    "genderAge = genderAge.merge(fittedParams[['sub','ClustName']],on='sub')\n",
    "genderAge.head()"
   ]
  },
  {
   "cell_type": "code",
   "execution_count": 5,
   "metadata": {},
   "outputs": [
    {
     "name": "stderr",
     "output_type": "stream",
     "text": [
      "/home/decision/jervbaa/.conda/envs/hmtg_fmri_nc/lib/python2.7/site-packages/scipy/stats/stats.py:1713: FutureWarning: Using a non-tuple sequence for multidimensional indexing is deprecated; use `arr[tuple(seq)]` instead of `arr[seq]`. In the future this will be interpreted as an array index, `arr[np.array(seq)]`, which will result either in an error or a different result.\n",
      "  return np.add.reduce(sorted[indexer] * weights, axis=axis) / sumval\n"
     ]
    },
    {
     "name": "stdout",
     "output_type": "stream",
     "text": [
      "F_onewayResult(statistic=1.6466185773560182, pvalue=0.18968360206885365)\n"
     ]
    },
    {
     "data": {
      "image/png": "[encoded data removed]",
      "text/plain": [
       "<Figure size 432x288 with 1 Axes>"
      ]
     },
     "metadata": {},
     "output_type": "display_data"
    }
   ],
   "source": [
    "measure = 'age'\n",
    "sns.barplot(data=genderAge,x='ClustName',y=measure)\n",
    "dat = [genderAge.loc[genderAge['ClustName']==clust,measure].values for clust in ['GR','GA','IA','MO']]\n",
    "print scipy.stats.f_oneway(dat[0],dat[1],dat[2],dat[3])"
   ]
  },
  {
   "cell_type": "code",
   "execution_count": 6,
   "metadata": {},
   "outputs": [
    {
     "name": "stdout",
     "output_type": "stream",
     "text": [
      "2.0510836385836386 3 0.561872082640984\n"
     ]
    }
   ],
   "source": [
    "measure = 'gender'\n",
    "dat = genderAge[['sub',measure,'ClustName']].groupby([measure,'ClustName']).count().unstack()\n",
    "chi2,p,dof,exp = scipy.stats.chi2_contingency(dat)\n",
    "print chi2,dof,p"
   ]
  },
  {
   "cell_type": "markdown",
   "metadata": {},
   "source": [
    "## SVO"
   ]
  },
  {
   "cell_type": "code",
   "execution_count": 7,
   "metadata": {},
   "outputs": [
    {
     "data": {
      "text/html": [
       "<div>\n",
       "<style scoped>\n",
       "    .dataframe tbody tr th:only-of-type {\n",
       "        vertical-align: middle;\n",
       "    }\n",
       "\n",
       "    .dataframe tbody tr th {\n",
       "        vertical-align: top;\n",
       "    }\n",
       "\n",
       "    .dataframe thead th {\n",
       "        text-align: right;\n",
       "    }\n",
       "</style>\n",
       "<table border=\"1\" class=\"dataframe\">\n",
       "  <thead>\n",
       "    <tr style=\"text-align: right;\">\n",
       "      <th></th>\n",
       "      <th>sub</th>\n",
       "      <th>SVO</th>\n",
       "      <th>prosocial</th>\n",
       "      <th>ClustName</th>\n",
       "    </tr>\n",
       "  </thead>\n",
       "  <tbody>\n",
       "    <tr>\n",
       "      <th>0</th>\n",
       "      <td>124</td>\n",
       "      <td>37.685</td>\n",
       "      <td>1</td>\n",
       "      <td>GR</td>\n",
       "    </tr>\n",
       "    <tr>\n",
       "      <th>1</th>\n",
       "      <td>126</td>\n",
       "      <td>24.463</td>\n",
       "      <td>1</td>\n",
       "      <td>MO</td>\n",
       "    </tr>\n",
       "    <tr>\n",
       "      <th>2</th>\n",
       "      <td>128</td>\n",
       "      <td>41.582</td>\n",
       "      <td>1</td>\n",
       "      <td>IA</td>\n",
       "    </tr>\n",
       "    <tr>\n",
       "      <th>3</th>\n",
       "      <td>129</td>\n",
       "      <td>40.799</td>\n",
       "      <td>1</td>\n",
       "      <td>MO</td>\n",
       "    </tr>\n",
       "    <tr>\n",
       "      <th>4</th>\n",
       "      <td>130</td>\n",
       "      <td>32.283</td>\n",
       "      <td>1</td>\n",
       "      <td>MO</td>\n",
       "    </tr>\n",
       "  </tbody>\n",
       "</table>\n",
       "</div>"
      ],
      "text/plain": [
       "   sub     SVO  prosocial ClustName\n",
       "0  124  37.685          1        GR\n",
       "1  126  24.463          1        MO\n",
       "2  128  41.582          1        IA\n",
       "3  129  40.799          1        MO\n",
       "4  130  32.283          1        MO"
      ]
     },
     "execution_count": 7,
     "metadata": {},
     "output_type": "execute_result"
    }
   ],
   "source": [
    "SVOs = pd.read_csv(os.path.join(base_dir,'Data/1.TaskBehavior/SVO.csv'),header=None,index_col=None)\n",
    "SVOs.columns = ['sub','SVO','prosocial']\n",
    "SVOs = SVOs.merge(fittedParams[['sub','ClustName']],on='sub')\n",
    "SVOs.head()"
   ]
  },
  {
   "cell_type": "code",
   "execution_count": 8,
   "metadata": {},
   "outputs": [
    {
     "name": "stdout",
     "output_type": "stream",
     "text": [
      "F_onewayResult(statistic=5.84167881865755, pvalue=0.001592987274028858)\n"
     ]
    },
    {
     "data": {
      "image/png": "[encoded data removed]",
      "text/plain": [
       "<Figure size 432x288 with 1 Axes>"
      ]
     },
     "metadata": {},
     "output_type": "display_data"
    }
   ],
   "source": [
    "measure = 'SVO'\n",
    "sns.barplot(data=SVOs,x='ClustName',y=measure)\n",
    "dat = [SVOs.loc[SVOs['ClustName']==clust,measure].values for clust in ['GR','GA','IA','MO']]\n",
    "print scipy.stats.f_oneway(dat[0],dat[1],dat[2],dat[3])"
   ]
  },
  {
   "cell_type": "code",
   "execution_count": 9,
   "metadata": {},
   "outputs": [
    {
     "name": "stdout",
     "output_type": "stream",
     "text": [
      "['GR', 'GA']\n",
      "t = -1.27, df = 10, p = 0.2344, p_corr = 1.4063\n",
      "['GR', 'IA']\n",
      "t = -4.45, df = 29, p = 0.0001, p_corr = 0.0007\n",
      "['GR', 'MO']\n",
      "t = -1.42, df = 26, p = 0.1686, p_corr = 1.0118\n",
      "['GA', 'IA']\n",
      "t = -1.36, df = 27, p = 0.1845, p_corr = 1.1068\n",
      "['GA', 'MO']\n",
      "t = 0.59, df = 24, p = 0.5625, p_corr = 3.3749\n",
      "['IA', 'MO']\n",
      "t = 3.43, df = 43, p = 0.0014, p_corr = 0.0082\n"
     ]
    }
   ],
   "source": [
    "# Pairwise comps\n",
    "pairs = [[0,1],[0,2],[0,3],[1,2],[1,3],[2,3]]\n",
    "groups = ['GR','GA','IA','MO']\n",
    "for pair in pairs:\n",
    "    groupPair = [groups[i] for i in pair]\n",
    "    print groupPair\n",
    "    dat = [SVOs.loc[SVOs['ClustName']==clust,measure].values for clust in groupPair]\n",
    "    stats = scipy.stats.ttest_ind(dat[0],dat[1])\n",
    "    df = len(dat[0])+len(dat[1])-2\n",
    "    print 't = %.2f, df = %i, p = %.4f, p_corr = %.4f'%(stats[0],df,stats[1],stats[1]*len(pairs))"
   ]
  },
  {
   "cell_type": "markdown",
   "metadata": {},
   "source": [
    "## Guilt inventory"
   ]
  },
  {
   "cell_type": "code",
   "execution_count": 10,
   "metadata": {},
   "outputs": [
    {
     "data": {
      "text/html": [
       "<div>\n",
       "<style scoped>\n",
       "    .dataframe tbody tr th:only-of-type {\n",
       "        vertical-align: middle;\n",
       "    }\n",
       "\n",
       "    .dataframe tbody tr th {\n",
       "        vertical-align: top;\n",
       "    }\n",
       "\n",
       "    .dataframe thead th {\n",
       "        text-align: right;\n",
       "    }\n",
       "</style>\n",
       "<table border=\"1\" class=\"dataframe\">\n",
       "  <thead>\n",
       "    <tr style=\"text-align: right;\">\n",
       "      <th></th>\n",
       "      <th>sub</th>\n",
       "      <th>state</th>\n",
       "      <th>standards</th>\n",
       "      <th>trait</th>\n",
       "      <th>ClustName</th>\n",
       "    </tr>\n",
       "  </thead>\n",
       "  <tbody>\n",
       "    <tr>\n",
       "      <th>0</th>\n",
       "      <td>124</td>\n",
       "      <td>20</td>\n",
       "      <td>49</td>\n",
       "      <td>40</td>\n",
       "      <td>GR</td>\n",
       "    </tr>\n",
       "    <tr>\n",
       "      <th>1</th>\n",
       "      <td>126</td>\n",
       "      <td>20</td>\n",
       "      <td>36</td>\n",
       "      <td>28</td>\n",
       "      <td>MO</td>\n",
       "    </tr>\n",
       "    <tr>\n",
       "      <th>2</th>\n",
       "      <td>128</td>\n",
       "      <td>24</td>\n",
       "      <td>34</td>\n",
       "      <td>54</td>\n",
       "      <td>IA</td>\n",
       "    </tr>\n",
       "    <tr>\n",
       "      <th>3</th>\n",
       "      <td>129</td>\n",
       "      <td>19</td>\n",
       "      <td>45</td>\n",
       "      <td>52</td>\n",
       "      <td>MO</td>\n",
       "    </tr>\n",
       "    <tr>\n",
       "      <th>4</th>\n",
       "      <td>130</td>\n",
       "      <td>30</td>\n",
       "      <td>45</td>\n",
       "      <td>60</td>\n",
       "      <td>MO</td>\n",
       "    </tr>\n",
       "  </tbody>\n",
       "</table>\n",
       "</div>"
      ],
      "text/plain": [
       "   sub  state  standards  trait ClustName\n",
       "0  124     20         49     40        GR\n",
       "1  126     20         36     28        MO\n",
       "2  128     24         34     54        IA\n",
       "3  129     19         45     52        MO\n",
       "4  130     30         45     60        MO"
      ]
     },
     "execution_count": 10,
     "metadata": {},
     "output_type": "execute_result"
    }
   ],
   "source": [
    "GIs = pd.read_csv(os.path.join(base_dir,'Data/2.Questionnaire/GI.csv'),header=None,index_col=None)\n",
    "GIs.columns = ['sub','state','standards','trait']\n",
    "GIs = GIs.merge(fittedParams[['sub','ClustName']],on='sub')\n",
    "GIs.head()"
   ]
  },
  {
   "cell_type": "code",
   "execution_count": 11,
   "metadata": {},
   "outputs": [
    {
     "name": "stdout",
     "output_type": "stream",
     "text": [
      "state\n",
      "F_onewayResult(statistic=0.37232541083215276, pvalue=0.7732860458040419)\n"
     ]
    },
    {
     "data": {
      "image/png": "[encoded data removed]",
      "text/plain": [
       "<Figure size 432x288 with 1 Axes>"
      ]
     },
     "metadata": {},
     "output_type": "display_data"
    },
    {
     "name": "stdout",
     "output_type": "stream",
     "text": [
      "standards\n",
      "F_onewayResult(statistic=0.9782176703205665, pvalue=0.41003410714999367)\n"
     ]
    },
    {
     "data": {
      "image/png": "[encoded data removed]",
      "text/plain": [
       "<Figure size 432x288 with 1 Axes>"
      ]
     },
     "metadata": {},
     "output_type": "display_data"
    },
    {
     "name": "stdout",
     "output_type": "stream",
     "text": [
      "trait\n",
      "F_onewayResult(statistic=1.2274307238799211, pvalue=0.3088812730922844)\n"
     ]
    },
    {
     "data": {
      "image/png": "[encoded data removed]",
      "text/plain": [
       "<Figure size 432x288 with 1 Axes>"
      ]
     },
     "metadata": {},
     "output_type": "display_data"
    }
   ],
   "source": [
    "for measure in ['state','standards','trait']:\n",
    "    print measure\n",
    "    sns.barplot(data=GIs,x='ClustName',y=measure)\n",
    "    dat = [GIs.loc[GIs['ClustName']==clust,measure].values for clust in ['GR','GA','IA','MO']]\n",
    "    print scipy.stats.f_oneway(dat[0],dat[1],dat[2],dat[3])\n",
    "    plt.show()"
   ]
  },
  {
   "cell_type": "markdown",
   "metadata": {},
   "source": [
    "## Choice consistency (from cross-validation on model)"
   ]
  },
  {
   "cell_type": "code",
   "execution_count": 12,
   "metadata": {},
   "outputs": [
    {
     "data": {
      "text/html": [
       "<div>\n",
       "<style scoped>\n",
       "    .dataframe tbody tr th:only-of-type {\n",
       "        vertical-align: middle;\n",
       "    }\n",
       "\n",
       "    .dataframe tbody tr th {\n",
       "        vertical-align: top;\n",
       "    }\n",
       "\n",
       "    .dataframe thead th {\n",
       "        text-align: right;\n",
       "    }\n",
       "</style>\n",
       "<table border=\"1\" class=\"dataframe\">\n",
       "  <thead>\n",
       "    <tr style=\"text-align: right;\">\n",
       "      <th></th>\n",
       "      <th>sub</th>\n",
       "      <th>SSE</th>\n",
       "      <th>MSE</th>\n",
       "      <th>r</th>\n",
       "      <th>rsq</th>\n",
       "      <th>ClustName</th>\n",
       "    </tr>\n",
       "  </thead>\n",
       "  <tbody>\n",
       "    <tr>\n",
       "      <th>0</th>\n",
       "      <td>124</td>\n",
       "      <td>83.0</td>\n",
       "      <td>1.092105</td>\n",
       "      <td>0.955983</td>\n",
       "      <td>0.913903</td>\n",
       "      <td>GR</td>\n",
       "    </tr>\n",
       "    <tr>\n",
       "      <th>1</th>\n",
       "      <td>126</td>\n",
       "      <td>259.0</td>\n",
       "      <td>3.407895</td>\n",
       "      <td>0.953970</td>\n",
       "      <td>0.910059</td>\n",
       "      <td>MO</td>\n",
       "    </tr>\n",
       "    <tr>\n",
       "      <th>2</th>\n",
       "      <td>128</td>\n",
       "      <td>255.0</td>\n",
       "      <td>3.355263</td>\n",
       "      <td>0.976844</td>\n",
       "      <td>0.954224</td>\n",
       "      <td>IA</td>\n",
       "    </tr>\n",
       "    <tr>\n",
       "      <th>3</th>\n",
       "      <td>129</td>\n",
       "      <td>229.0</td>\n",
       "      <td>3.013158</td>\n",
       "      <td>0.962628</td>\n",
       "      <td>0.926653</td>\n",
       "      <td>MO</td>\n",
       "    </tr>\n",
       "    <tr>\n",
       "      <th>4</th>\n",
       "      <td>130</td>\n",
       "      <td>473.0</td>\n",
       "      <td>6.223684</td>\n",
       "      <td>0.917563</td>\n",
       "      <td>0.841923</td>\n",
       "      <td>MO</td>\n",
       "    </tr>\n",
       "  </tbody>\n",
       "</table>\n",
       "</div>"
      ],
      "text/plain": [
       "   sub    SSE       MSE         r       rsq ClustName\n",
       "0  124   83.0  1.092105  0.955983  0.913903        GR\n",
       "1  126  259.0  3.407895  0.953970  0.910059        MO\n",
       "2  128  255.0  3.355263  0.976844  0.954224        IA\n",
       "3  129  229.0  3.013158  0.962628  0.926653        MO\n",
       "4  130  473.0  6.223684  0.917563  0.841923        MO"
      ]
     },
     "execution_count": 12,
     "metadata": {},
     "output_type": "execute_result"
    }
   ],
   "source": [
    "CVs = pd.read_csv(os.path.join(base_dir,'Results/1.Behavior-FitModels/CV_k-folds_true_results.csv'),index_col=0)\n",
    "CVs = CVs.merge(fittedParams[['sub','ClustName']],on='sub')\n",
    "CVs.head()"
   ]
  },
  {
   "cell_type": "code",
   "execution_count": 13,
   "metadata": {},
   "outputs": [
    {
     "name": "stdout",
     "output_type": "stream",
     "text": [
      "SSE\n",
      "F_onewayResult(statistic=0.37669145725343234, pvalue=0.7701643284529256)\n"
     ]
    },
    {
     "data": {
      "image/png": "[encoded data removed]",
      "text/plain": [
       "<Figure size 432x288 with 1 Axes>"
      ]
     },
     "metadata": {},
     "output_type": "display_data"
    }
   ],
   "source": [
    "for measure in ['SSE']:\n",
    "    print measure\n",
    "    sns.barplot(data=CVs,x='ClustName',y=measure)\n",
    "    dat = [CVs.loc[CVs['ClustName']==clust,measure].values for clust in ['GR','GA','IA','MO']]\n",
    "    print scipy.stats.f_oneway(dat[0],dat[1],dat[2],dat[3])\n",
    "    plt.show()"
   ]
  },
  {
   "cell_type": "markdown",
   "metadata": {},
   "source": [
    "## Choice consistency (as overall model misfit)"
   ]
  },
  {
   "cell_type": "code",
   "execution_count": 14,
   "metadata": {},
   "outputs": [],
   "source": [
    "SSEs = fittedParams[['sub','SSE','ClustName']]"
   ]
  },
  {
   "cell_type": "code",
   "execution_count": 74,
   "metadata": {},
   "outputs": [
    {
     "name": "stdout",
     "output_type": "stream",
     "text": [
      "SSE\n",
      "F_onewayResult(statistic=0.6817053130338997, pvalue=0.5671581281295366)\n"
     ]
    },
    {
     "data": {
      "image/png": "[encoded data removed]",
      "text/plain": [
       "<Figure size 432x288 with 1 Axes>"
      ]
     },
     "metadata": {},
     "output_type": "display_data"
    }
   ],
   "source": [
    "for measure in ['SSE']:\n",
    "    print measure\n",
    "    sns.barplot(data=SSEs,x='ClustName',y=measure)\n",
    "    dat = [SSEs.loc[SSEs['ClustName']==clust,measure].values for clust in ['GR','GA','IA','MO']]\n",
    "    print scipy.stats.f_oneway(dat[0],dat[1],dat[2],dat[3])\n",
    "    plt.show()"
   ]
  },
  {
   "cell_type": "code",
   "execution_count": 75,
   "metadata": {},
   "outputs": [
    {
     "data": {
      "text/plain": [
       "<matplotlib.axes._subplots.AxesSubplot at 0x7f6ccbb8de50>"
      ]
     },
     "execution_count": 75,
     "metadata": {},
     "output_type": "execute_result"
    },
    {
     "data": {
      "image/png": "[encoded data removed]",
      "text/plain": [
       "<Figure size 432x288 with 1 Axes>"
      ]
     },
     "metadata": {},
     "output_type": "display_data"
    }
   ],
   "source": [
    "sns.boxplot(data=SSEs,x='ClustName',y=measure)"
   ]
  },
  {
   "cell_type": "code",
   "execution_count": 16,
   "metadata": {},
   "outputs": [
    {
     "data": {
      "text/plain": [
       "(array([ 1.,  0.,  4.,  0.,  4., 22., 15.,  5.,  5.,  1.]),\n",
       " array([0.        , 0.33245498, 0.66490997, 0.99736495, 1.32981993,\n",
       "        1.66227492, 1.9947299 , 2.32718488, 2.65963986, 2.99209485,\n",
       "        3.32454983]),\n",
       " <a list of 10 Patch objects>)"
      ]
     },
     "execution_count": 16,
     "metadata": {},
     "output_type": "execute_result"
    },
    {
     "data": {
      "image/png": "[encoded data removed]",
      "text/plain": [
       "<Figure size 432x288 with 1 Axes>"
      ]
     },
     "metadata": {},
     "output_type": "display_data"
    }
   ],
   "source": [
    "plt.hist(np.sqrt(SSEs['SSE']/76))"
   ]
  },
  {
   "cell_type": "markdown",
   "metadata": {},
   "source": [
    "## Tabulate all individual differences (supp table 1)"
   ]
  },
  {
   "cell_type": "code",
   "execution_count": 37,
   "metadata": {},
   "outputs": [
    {
     "data": {
      "text/html": [
       "<div>\n",
       "<style scoped>\n",
       "    .dataframe tbody tr th:only-of-type {\n",
       "        vertical-align: middle;\n",
       "    }\n",
       "\n",
       "    .dataframe tbody tr th {\n",
       "        vertical-align: top;\n",
       "    }\n",
       "\n",
       "    .dataframe thead th {\n",
       "        text-align: right;\n",
       "    }\n",
       "</style>\n",
       "<table border=\"1\" class=\"dataframe\">\n",
       "  <thead>\n",
       "    <tr style=\"text-align: right;\">\n",
       "      <th></th>\n",
       "      <th>ClustName</th>\n",
       "      <th>gender</th>\n",
       "      <th>age</th>\n",
       "      <th>SVO</th>\n",
       "      <th>prosocial</th>\n",
       "      <th>state</th>\n",
       "      <th>standards</th>\n",
       "      <th>trait</th>\n",
       "      <th>theta</th>\n",
       "      <th>phi</th>\n",
       "      <th>SSE</th>\n",
       "    </tr>\n",
       "  </thead>\n",
       "  <tbody>\n",
       "    <tr>\n",
       "      <th>0</th>\n",
       "      <td>GR</td>\n",
       "      <td>1</td>\n",
       "      <td>19</td>\n",
       "      <td>37.685</td>\n",
       "      <td>1</td>\n",
       "      <td>20</td>\n",
       "      <td>49</td>\n",
       "      <td>40</td>\n",
       "      <td>0.340718</td>\n",
       "      <td>0.055082</td>\n",
       "      <td>65.0</td>\n",
       "    </tr>\n",
       "    <tr>\n",
       "      <th>1</th>\n",
       "      <td>MO</td>\n",
       "      <td>2</td>\n",
       "      <td>19</td>\n",
       "      <td>24.463</td>\n",
       "      <td>1</td>\n",
       "      <td>20</td>\n",
       "      <td>36</td>\n",
       "      <td>28</td>\n",
       "      <td>0.078473</td>\n",
       "      <td>0.000799</td>\n",
       "      <td>205.0</td>\n",
       "    </tr>\n",
       "    <tr>\n",
       "      <th>2</th>\n",
       "      <td>IA</td>\n",
       "      <td>1</td>\n",
       "      <td>22</td>\n",
       "      <td>41.582</td>\n",
       "      <td>1</td>\n",
       "      <td>24</td>\n",
       "      <td>34</td>\n",
       "      <td>54</td>\n",
       "      <td>0.030199</td>\n",
       "      <td>0.059205</td>\n",
       "      <td>255.0</td>\n",
       "    </tr>\n",
       "    <tr>\n",
       "      <th>3</th>\n",
       "      <td>MO</td>\n",
       "      <td>1</td>\n",
       "      <td>20</td>\n",
       "      <td>40.799</td>\n",
       "      <td>1</td>\n",
       "      <td>19</td>\n",
       "      <td>45</td>\n",
       "      <td>52</td>\n",
       "      <td>0.206195</td>\n",
       "      <td>-0.095803</td>\n",
       "      <td>203.0</td>\n",
       "    </tr>\n",
       "    <tr>\n",
       "      <th>4</th>\n",
       "      <td>MO</td>\n",
       "      <td>1</td>\n",
       "      <td>25</td>\n",
       "      <td>32.283</td>\n",
       "      <td>1</td>\n",
       "      <td>30</td>\n",
       "      <td>45</td>\n",
       "      <td>60</td>\n",
       "      <td>0.078536</td>\n",
       "      <td>-0.017041</td>\n",
       "      <td>323.0</td>\n",
       "    </tr>\n",
       "  </tbody>\n",
       "</table>\n",
       "</div>"
      ],
      "text/plain": [
       "  ClustName  gender  age     SVO  prosocial  state  standards  trait  \\\n",
       "0        GR       1   19  37.685          1     20         49     40   \n",
       "1        MO       2   19  24.463          1     20         36     28   \n",
       "2        IA       1   22  41.582          1     24         34     54   \n",
       "3        MO       1   20  40.799          1     19         45     52   \n",
       "4        MO       1   25  32.283          1     30         45     60   \n",
       "\n",
       "      theta       phi    SSE  \n",
       "0  0.340718  0.055082   65.0  \n",
       "1  0.078473  0.000799  205.0  \n",
       "2  0.030199  0.059205  255.0  \n",
       "3  0.206195 -0.095803  203.0  \n",
       "4  0.078536 -0.017041  323.0  "
      ]
     },
     "execution_count": 37,
     "metadata": {},
     "output_type": "execute_result"
    }
   ],
   "source": [
    "allDiffs = genderAge.merge(SVOs,on=['sub','ClustName']).merge(GIs,on=['sub','ClustName']).merge(\n",
    "    SSEs,on=['sub','ClustName']).merge(fittedParams[['sub','theta','phi']],on='sub')\n",
    "allDiffs = allDiffs[['ClustName','gender','age','SVO','prosocial','state','standards','trait',\n",
    "                     'theta','phi','SSE']]\n",
    "allDiffs.head()"
   ]
  },
  {
   "cell_type": "code",
   "execution_count": 38,
   "metadata": {},
   "outputs": [],
   "source": [
    "descriptives = allDiffs.groupby('ClustName').describe().T\n",
    "descriptives.to_csv(os.path.join(base_dir,'Results/2.Behavior-ClusterModel/ClusterDescriptives.csv'))"
   ]
  },
  {
   "cell_type": "code",
   "execution_count": 39,
   "metadata": {},
   "outputs": [
    {
     "data": {
      "text/plain": [
       "ClustName  gender\n",
       "GA         1          3\n",
       "           2          2\n",
       "GR         1          2\n",
       "           2          5\n",
       "IA         1          7\n",
       "           2         17\n",
       "MO         1          6\n",
       "           2         15\n",
       "dtype: int64"
      ]
     },
     "execution_count": 39,
     "metadata": {},
     "output_type": "execute_result"
    }
   ],
   "source": [
    "allDiffs[['ClustName','gender']].groupby(['ClustName','gender']).size()"
   ]
  },
  {
   "cell_type": "code",
   "execution_count": 40,
   "metadata": {},
   "outputs": [
    {
     "data": {
      "text/html": [
       "<div>\n",
       "<style scoped>\n",
       "    .dataframe tbody tr th:only-of-type {\n",
       "        vertical-align: middle;\n",
       "    }\n",
       "\n",
       "    .dataframe tbody tr th {\n",
       "        vertical-align: top;\n",
       "    }\n",
       "\n",
       "    .dataframe thead th {\n",
       "        text-align: right;\n",
       "    }\n",
       "</style>\n",
       "<table border=\"1\" class=\"dataframe\">\n",
       "  <thead>\n",
       "    <tr style=\"text-align: right;\">\n",
       "      <th></th>\n",
       "      <th>count</th>\n",
       "      <th>mean</th>\n",
       "      <th>std</th>\n",
       "      <th>min</th>\n",
       "      <th>25%</th>\n",
       "      <th>50%</th>\n",
       "      <th>75%</th>\n",
       "      <th>max</th>\n",
       "    </tr>\n",
       "  </thead>\n",
       "  <tbody>\n",
       "    <tr>\n",
       "      <th>gender</th>\n",
       "      <td>57.0</td>\n",
       "      <td>1.684211</td>\n",
       "      <td>0.468961</td>\n",
       "      <td>1.000000</td>\n",
       "      <td>1.000000</td>\n",
       "      <td>2.000000</td>\n",
       "      <td>2.000000</td>\n",
       "      <td>2.000000</td>\n",
       "    </tr>\n",
       "    <tr>\n",
       "      <th>age</th>\n",
       "      <td>57.0</td>\n",
       "      <td>21.280702</td>\n",
       "      <td>2.085275</td>\n",
       "      <td>18.000000</td>\n",
       "      <td>20.000000</td>\n",
       "      <td>21.000000</td>\n",
       "      <td>23.000000</td>\n",
       "      <td>26.000000</td>\n",
       "    </tr>\n",
       "    <tr>\n",
       "      <th>SVO</th>\n",
       "      <td>57.0</td>\n",
       "      <td>33.398246</td>\n",
       "      <td>9.003912</td>\n",
       "      <td>11.622000</td>\n",
       "      <td>29.745000</td>\n",
       "      <td>35.575000</td>\n",
       "      <td>41.410000</td>\n",
       "      <td>43.808000</td>\n",
       "    </tr>\n",
       "    <tr>\n",
       "      <th>prosocial</th>\n",
       "      <td>57.0</td>\n",
       "      <td>0.859649</td>\n",
       "      <td>0.350438</td>\n",
       "      <td>0.000000</td>\n",
       "      <td>1.000000</td>\n",
       "      <td>1.000000</td>\n",
       "      <td>1.000000</td>\n",
       "      <td>1.000000</td>\n",
       "    </tr>\n",
       "    <tr>\n",
       "      <th>state</th>\n",
       "      <td>57.0</td>\n",
       "      <td>24.438596</td>\n",
       "      <td>6.617125</td>\n",
       "      <td>13.000000</td>\n",
       "      <td>19.000000</td>\n",
       "      <td>23.000000</td>\n",
       "      <td>29.000000</td>\n",
       "      <td>39.000000</td>\n",
       "    </tr>\n",
       "    <tr>\n",
       "      <th>standards</th>\n",
       "      <td>57.0</td>\n",
       "      <td>43.701754</td>\n",
       "      <td>6.073846</td>\n",
       "      <td>30.000000</td>\n",
       "      <td>39.000000</td>\n",
       "      <td>44.000000</td>\n",
       "      <td>47.000000</td>\n",
       "      <td>60.000000</td>\n",
       "    </tr>\n",
       "    <tr>\n",
       "      <th>trait</th>\n",
       "      <td>57.0</td>\n",
       "      <td>49.578947</td>\n",
       "      <td>10.513507</td>\n",
       "      <td>28.000000</td>\n",
       "      <td>42.000000</td>\n",
       "      <td>48.000000</td>\n",
       "      <td>57.000000</td>\n",
       "      <td>83.000000</td>\n",
       "    </tr>\n",
       "    <tr>\n",
       "      <th>theta</th>\n",
       "      <td>57.0</td>\n",
       "      <td>0.146528</td>\n",
       "      <td>0.125008</td>\n",
       "      <td>0.004283</td>\n",
       "      <td>0.057725</td>\n",
       "      <td>0.109224</td>\n",
       "      <td>0.206195</td>\n",
       "      <td>0.492593</td>\n",
       "    </tr>\n",
       "    <tr>\n",
       "      <th>phi</th>\n",
       "      <td>57.0</td>\n",
       "      <td>-0.010273</td>\n",
       "      <td>0.065032</td>\n",
       "      <td>-0.099693</td>\n",
       "      <td>-0.087336</td>\n",
       "      <td>0.000459</td>\n",
       "      <td>0.041354</td>\n",
       "      <td>0.098527</td>\n",
       "    </tr>\n",
       "    <tr>\n",
       "      <th>SSE</th>\n",
       "      <td>57.0</td>\n",
       "      <td>315.859649</td>\n",
       "      <td>153.830198</td>\n",
       "      <td>0.000000</td>\n",
       "      <td>235.000000</td>\n",
       "      <td>294.000000</td>\n",
       "      <td>384.000000</td>\n",
       "      <td>840.000000</td>\n",
       "    </tr>\n",
       "  </tbody>\n",
       "</table>\n",
       "</div>"
      ],
      "text/plain": [
       "           count        mean         std        min         25%         50%  \\\n",
       "gender      57.0    1.684211    0.468961   1.000000    1.000000    2.000000   \n",
       "age         57.0   21.280702    2.085275  18.000000   20.000000   21.000000   \n",
       "SVO         57.0   33.398246    9.003912  11.622000   29.745000   35.575000   \n",
       "prosocial   57.0    0.859649    0.350438   0.000000    1.000000    1.000000   \n",
       "state       57.0   24.438596    6.617125  13.000000   19.000000   23.000000   \n",
       "standards   57.0   43.701754    6.073846  30.000000   39.000000   44.000000   \n",
       "trait       57.0   49.578947   10.513507  28.000000   42.000000   48.000000   \n",
       "theta       57.0    0.146528    0.125008   0.004283    0.057725    0.109224   \n",
       "phi         57.0   -0.010273    0.065032  -0.099693   -0.087336    0.000459   \n",
       "SSE         57.0  315.859649  153.830198   0.000000  235.000000  294.000000   \n",
       "\n",
       "                  75%         max  \n",
       "gender       2.000000    2.000000  \n",
       "age         23.000000   26.000000  \n",
       "SVO         41.410000   43.808000  \n",
       "prosocial    1.000000    1.000000  \n",
       "state       29.000000   39.000000  \n",
       "standards   47.000000   60.000000  \n",
       "trait       57.000000   83.000000  \n",
       "theta        0.206195    0.492593  \n",
       "phi          0.041354    0.098527  \n",
       "SSE        384.000000  840.000000  "
      ]
     },
     "execution_count": 40,
     "metadata": {},
     "output_type": "execute_result"
    }
   ],
   "source": [
    "allDiffs.describe().T"
   ]
  },
  {
   "cell_type": "markdown",
   "metadata": {},
   "source": [
    "## Plot parameter space with SSE as third dimension"
   ]
  },
  {
   "cell_type": "code",
   "execution_count": 41,
   "metadata": {},
   "outputs": [
    {
     "data": {
      "text/html": [
       "<div>\n",
       "<style scoped>\n",
       "    .dataframe tbody tr th:only-of-type {\n",
       "        vertical-align: middle;\n",
       "    }\n",
       "\n",
       "    .dataframe tbody tr th {\n",
       "        vertical-align: top;\n",
       "    }\n",
       "\n",
       "    .dataframe thead th {\n",
       "        text-align: right;\n",
       "    }\n",
       "</style>\n",
       "<table border=\"1\" class=\"dataframe\">\n",
       "  <thead>\n",
       "    <tr style=\"text-align: right;\">\n",
       "      <th></th>\n",
       "      <th>theta</th>\n",
       "      <th>phi</th>\n",
       "      <th>SSE</th>\n",
       "    </tr>\n",
       "  </thead>\n",
       "  <tbody>\n",
       "    <tr>\n",
       "      <th>0</th>\n",
       "      <td>0.340718</td>\n",
       "      <td>0.055082</td>\n",
       "      <td>65.0</td>\n",
       "    </tr>\n",
       "    <tr>\n",
       "      <th>1</th>\n",
       "      <td>0.078473</td>\n",
       "      <td>0.000799</td>\n",
       "      <td>205.0</td>\n",
       "    </tr>\n",
       "    <tr>\n",
       "      <th>2</th>\n",
       "      <td>0.030199</td>\n",
       "      <td>0.059205</td>\n",
       "      <td>255.0</td>\n",
       "    </tr>\n",
       "    <tr>\n",
       "      <th>3</th>\n",
       "      <td>0.206195</td>\n",
       "      <td>-0.095803</td>\n",
       "      <td>203.0</td>\n",
       "    </tr>\n",
       "    <tr>\n",
       "      <th>4</th>\n",
       "      <td>0.078536</td>\n",
       "      <td>-0.017041</td>\n",
       "      <td>323.0</td>\n",
       "    </tr>\n",
       "  </tbody>\n",
       "</table>\n",
       "</div>"
      ],
      "text/plain": [
       "      theta       phi    SSE\n",
       "0  0.340718  0.055082   65.0\n",
       "1  0.078473  0.000799  205.0\n",
       "2  0.030199  0.059205  255.0\n",
       "3  0.206195 -0.095803  203.0\n",
       "4  0.078536 -0.017041  323.0"
      ]
     },
     "execution_count": 41,
     "metadata": {},
     "output_type": "execute_result"
    }
   ],
   "source": [
    "plotDat = allDiffs[['theta','phi','SSE']].copy()\n",
    "plotDat.head()"
   ]
  },
  {
   "cell_type": "code",
   "execution_count": 73,
   "metadata": {},
   "outputs": [
    {
     "data": {
      "image/png": "[encoded data removed]",
      "text/plain": [
       "<Figure size 432x288 with 2 Axes>"
      ]
     },
     "metadata": {},
     "output_type": "display_data"
    }
   ],
   "source": [
    "cm = plt.cm.get_cmap('RdYlGn_r')\n",
    "x = plotDat.theta\n",
    "y = plotDat.phi\n",
    "z = plotDat.SSE\n",
    "sc = plt.scatter(x, y, c=z, s=100, cmap=cm)\n",
    "plt.colorbar(sc,)\n",
    "plt.xlabel('Theta'); plt.ylabel('Phi');\n",
    "plt.title('Color: model error (sum of squares)')\n",
    "# plt.savefig(os.path.join(base_dir,'Results/2.ClusterModel/SSE_across_paramSpace.pdf'),\n",
    "#             bbox_inches='tight')\n",
    "plt.show()"
   ]
  },
  {
   "cell_type": "markdown",
   "metadata": {},
   "source": [
    "##### Supp fig 8"
   ]
  },
  {
   "cell_type": "code",
   "execution_count": 110,
   "metadata": {},
   "outputs": [
    {
     "data": {
      "image/png": "[encoded data removed]",
      "text/plain": [
       "<Figure size 864x288 with 3 Axes>"
      ]
     },
     "metadata": {},
     "output_type": "display_data"
    }
   ],
   "source": [
    "fig,ax = plt.subplots(1,2,figsize=[12,4])\n",
    "sc = ax[0].scatter(x, y, c=z, s=60, cmap=cm)\n",
    "plt.colorbar(sc,ax=ax[0],label='Model error (sum of squares)')\n",
    "ax[0].set_xlabel('Theta'); ax[0].set_ylabel('Phi');\n",
    "ax[0].set_title('Model error in parameter space')\n",
    "sns.boxplot(data=SSEs,x='ClustName',y=measure,ax=ax[1],\n",
    "            palette=[sns.color_palette('tab10',4)[i] for i in [0,3,2,1]])\n",
    "# ax[1].set_xlabel('Strategy cluster')\n",
    "ax[1].set(xlabel = 'Strategy cluster', ylabel='Model error (sum of squares)',\n",
    "         title = 'Model error per strategy cluster');\n",
    "plt.savefig(os.path.join(base_dir,'Results/2.ClusterModel/SSE_across_paramsClusters.pdf'),\n",
    "            bbox_inches='tight')"
   ]
  }
 ],
 "metadata": {
  "anaconda-cloud": {},
  "kernelspec": {
   "display_name": "Python 2",
   "language": "python",
   "name": "python2"
  },
  "language_info": {
   "codemirror_mode": {
    "name": "ipython",
    "version": 2
   },
   "file_extension": ".py",
   "mimetype": "text/x-python",
   "name": "python",
   "nbconvert_exporter": "python",
   "pygments_lexer": "ipython2",
   "version": "2.7.15"
  },
  "toc": {
   "nav_menu": {
    "height": "30px",
    "width": "252px"
   },
   "navigate_menu": true,
   "number_sections": true,
   "sideBar": true,
   "threshold": 4,
   "toc_cell": false,
   "toc_section_display": "block",
   "toc_window_display": false
  }
 },
 "nbformat": 4,
 "nbformat_minor": 1
}
