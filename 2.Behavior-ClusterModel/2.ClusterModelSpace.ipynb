{
 "cells": [
  {
   "cell_type": "markdown",
   "metadata": {},
   "source": [
    "Code for model-driven clustering of moral strategies, by parsimoniously carving up the model's parameter space."
   ]
  },
  {
   "cell_type": "code",
   "execution_count": 2,
   "metadata": {
    "ExecuteTime": {
     "end_time": "2017-01-18T22:17:22.559876",
     "start_time": "2017-01-18T22:17:21.409416"
    },
    "scrolled": true
   },
   "outputs": [],
   "source": [
    "%matplotlib inline\n",
    "from __future__ import division\n",
    "from matplotlib import pyplot as plt\n",
    "import numpy as np\n",
    "import seaborn as sns\n",
    "import os, sys\n",
    "import pandas as pd\n",
    "from scipy.stats import pearsonr\n",
    "from scipy.cluster.hierarchy import dendrogram, linkage\n",
    "import scipy\n",
    "import scipy.io\n",
    "\n",
    "sys.path.append('/project/3014018.02/analysis_mri/'+\n",
    "                'DataSharingCollection/Code/1.Behavior-FitModels/Functions/')\n",
    "import choiceModels, costFunctions, penalizedModelFit\n",
    "\n",
    "base_dir = '/project/3014018.02/analysis_mri/DataSharingCollection/'"
   ]
  },
  {
   "cell_type": "markdown",
   "metadata": {},
   "source": [
    "## Load theta-phi space and simulations"
   ]
  },
  {
   "cell_type": "code",
   "execution_count": 3,
   "metadata": {},
   "outputs": [
    {
     "name": "stdout",
     "output_type": "stream",
     "text": [
      "(10201, 30)\n"
     ]
    }
   ],
   "source": [
    "precision = 100\n",
    "\n",
    "#\n",
    "decimals = int(np.log10(precision)+1)\n",
    "phi = np.around(np.arange(-0.1,0.10001,0.2/precision).astype('float'),decimals=decimals)#[-.1,0,.1]\n",
    "theta = np.around(np.arange(0,.50001,.5/precision).astype('float'),decimals=decimals)#[0,.1,.2,.3,.4,.5,.6]\n",
    "phiLen = len(phi)\n",
    "thetaLen = len(theta)\n",
    "\n",
    "#\n",
    "thetaPhi = pd.read_csv(os.path.join(base_dir,'Results/2.Behavior-ClusterModel/ThetaPhi_%i-by-%i.csv'%(\n",
    "    thetaLen,phiLen)),index_col=0)\n",
    "simulations = np.array(pd.read_csv(os.path.join(base_dir,'Results/2.Behavior-ClusterModel/ModelSimulations_%i-by-%i.csv'%(\n",
    "    thetaLen,phiLen)),index_col=0))\n",
    "print simulations.shape"
   ]
  },
  {
   "cell_type": "markdown",
   "metadata": {},
   "source": [
    "## Settings"
   ]
  },
  {
   "cell_type": "code",
   "execution_count": 4,
   "metadata": {},
   "outputs": [],
   "source": [
    "metric = 'sqeuclidean'\n",
    "cluster_threshold = 495 # Cutoff for four clusters"
   ]
  },
  {
   "cell_type": "markdown",
   "metadata": {},
   "source": [
    "## Cluster"
   ]
  },
  {
   "cell_type": "code",
   "execution_count": 5,
   "metadata": {},
   "outputs": [
    {
     "name": "stdout",
     "output_type": "stream",
     "text": [
      "[1 2 3 4]\n"
     ]
    }
   ],
   "source": [
    "sim_distance = scipy.spatial.distance.pdist(simulations,metric)\n",
    "Z = linkage(sim_distance,method='average')\n",
    "\n",
    "clusters = scipy.cluster.hierarchy.fcluster(Z, cluster_threshold, criterion='distance')\n",
    "print np.unique(clusters)"
   ]
  },
  {
   "cell_type": "code",
   "execution_count": 6,
   "metadata": {},
   "outputs": [],
   "source": [
    "# # Dendrogram\n",
    "# plt.figure(figsize=(25, 10))\n",
    "# plt.title('Hierarchical Clustering Dendrogram')\n",
    "# plt.xlabel('sample index')\n",
    "# plt.ylabel('distance')\n",
    "# dendrogram(\n",
    "#     Z,\n",
    "#     leaf_rotation=90.,  # rotates the x axis labels\n",
    "#     leaf_font_size=8.,  # font size for the x axis labels\n",
    "#     color_threshold=cluster_threshold,\n",
    "# )\n",
    "# plt.show()"
   ]
  },
  {
   "cell_type": "code",
   "execution_count": 9,
   "metadata": {},
   "outputs": [],
   "source": [
    "# Add to thetaphi and store\n",
    "thetaPhi['cluster'] = clusters.T\n",
    "thetaPhi.to_csv(os.path.join(base_dir,'Results/2.Behavior-ClusterModel/SimulationClustering_%i-by-%i_%s.csv'%(\n",
    "    thetaLen,phiLen,metric)))"
   ]
  },
  {
   "cell_type": "markdown",
   "metadata": {},
   "source": [
    "#### Plot clusters in parameter space"
   ]
  },
  {
   "cell_type": "code",
   "execution_count": 10,
   "metadata": {},
   "outputs": [],
   "source": [
    "thetaLen = 101\n",
    "phiLen = 101\n",
    "metric = 'sqeuclidean'"
   ]
  },
  {
   "cell_type": "code",
   "execution_count": 11,
   "metadata": {},
   "outputs": [
    {
     "data": {
      "image/png": "[encoded data removed]",
      "text/plain": [
       "<Figure size 432x288 with 2 Axes>"
      ]
     },
     "metadata": {},
     "output_type": "display_data"
    }
   ],
   "source": [
    "# Add clusters to thetaPhi => easily plot cluster territories over parameter space\n",
    "thetaPhi = pd.read_csv(os.path.join(base_dir,'Results/2.Behavior-ClusterModel/SimulationClustering_%i-by-%i_%s.csv'%(\n",
    "    thetaLen,phiLen,metric)),index_col=0)\n",
    "thetaPhiPivot = thetaPhi.pivot('theta','phi','cluster').T\n",
    "thetaPhiPivot.to_csv(os.path.join(base_dir,'Results/2.Behavior-ClusterModel/ClusterMap_%s-by-%s_%s.csv' % (\n",
    "    thetaLen,phiLen, metric)))\n",
    "# Define colors\n",
    "ncols = len(np.unique(thetaPhi['cluster']))\n",
    "sns.set_palette('tab10',ncols,desat=.8)\n",
    "weight_colorsByWhites = [3,1]\n",
    "colorMap = sns.color_palette()[0:ncols]\n",
    "colorMap = list(np.add(np.multiply(colorMap,weight_colorsByWhites[0]),\n",
    "                       np.multiply(np.ones([ncols,3]),weight_colorsByWhites[1]))\n",
    "                /sum(weight_colorsByWhites))\n",
    "ax = sns.heatmap(thetaPhiPivot,cmap=colorMap,square=True)\n",
    "plt.xlabel('Theta')\n",
    "plt.ylabel('Phi')\n",
    "plt.yticks(np.arange(1,phiLen+1,(phiLen-1)/10),['%.2f'%i for i in np.arange(-.1,.1001,2/(phiLen-1))])\n",
    "plt.xticks(np.arange(1,thetaLen+1,(thetaLen-1)/10),['%.2f'%i for i in np.arange(0,.5001,5/(phiLen-1))])\n",
    "plt.title('Clusters in parameter space')\n",
    "ax.invert_yaxis()\n",
    "plt.savefig(os.path.join(base_dir,'Results/2.Behavior-ClusterModel/ClusterMap_%s-by-%s_%s.eps' % (\n",
    "    thetaLen,phiLen,metric)),format='eps',dpi=200,bbox_inches='tight')\n",
    "plt.savefig(os.path.join(base_dir,'Results/2.Behavior-ClusterModel/ClusterMap_%s-by-%s_%s.png' % (\n",
    "    thetaLen,phiLen,metric)),format='png',dpi=200,bbox_inches='tight')"
   ]
  },
  {
   "cell_type": "code",
   "execution_count": null,
   "metadata": {},
   "outputs": [],
   "source": []
  }
 ],
 "metadata": {
  "anaconda-cloud": {},
  "kernelspec": {
   "display_name": "Python 2",
   "language": "python",
   "name": "python2"
  },
  "language_info": {
   "codemirror_mode": {
    "name": "ipython",
    "version": 2
   },
   "file_extension": ".py",
   "mimetype": "text/x-python",
   "name": "python",
   "nbconvert_exporter": "python",
   "pygments_lexer": "ipython2",
   "version": "2.7.15"
  },
  "toc": {
   "nav_menu": {
    "height": "30px",
    "width": "252px"
   },
   "navigate_menu": true,
   "number_sections": true,
   "sideBar": true,
   "threshold": 4,
   "toc_cell": false,
   "toc_section_display": "block",
   "toc_window_display": false
  }
 },
 "nbformat": 4,
 "nbformat_minor": 1
}
