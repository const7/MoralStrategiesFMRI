{
 "cells": [
  {
   "cell_type": "markdown",
   "metadata": {},
   "source": [
    "Code to test whether the distribution of moral strategies in the HMTG fMRI study is different from the distribution found in the behavioral replication experiment or not"
   ]
  },
  {
   "cell_type": "code",
   "execution_count": null,
   "metadata": {
    "ExecuteTime": {
     "end_time": "2017-01-18T22:17:22.559876",
     "start_time": "2017-01-18T22:17:21.409416"
    },
    "scrolled": true
   },
   "outputs": [],
   "source": [
    "import warnings, os, sys, glob, nltools, scipy, matplotlib, sklearn\n",
    "warnings.filterwarnings(\"ignore\", message=\"numpy.dtype size changed\")\n",
    "\n",
    "import numpy as np\n",
    "import pandas as pd\n",
    "from scipy import stats as ss\n",
    "import matplotlib.pyplot as plt\n",
    "import seaborn as sns\n",
    "matplotlib.rcParams['pdf.fonttype'] = 42 \n",
    "\n",
    "base_dir = '/project/3014018.02/analysis_mri/DataSharingCollection/'\n",
    "sys.path.append('../Tools/')\n",
    "import FigureTools"
   ]
  },
  {
   "cell_type": "markdown",
   "metadata": {
    "collapsed": true
   },
   "source": [
    "## Load clusters"
   ]
  },
  {
   "cell_type": "code",
   "execution_count": 2,
   "metadata": {
    "scrolled": true
   },
   "outputs": [
    {
     "name": "stdout",
     "output_type": "stream",
     "text": [
      "IA    24\n",
      "MO    21\n",
      "GR     7\n",
      "GA     5\n",
      "Name: ClustName, dtype: int64\n"
     ]
    }
   ],
   "source": [
    "imgDat = pd.read_csv(os.path.join(base_dir,\n",
    "    'Results/2.Behavior-ClusterModel/ParticipantClustering.csv'),index_col=0)\n",
    "print imgDat['ClustName'].value_counts()"
   ]
  },
  {
   "cell_type": "markdown",
   "metadata": {},
   "source": [
    "## Load replication data"
   ]
  },
  {
   "cell_type": "code",
   "execution_count": 3,
   "metadata": {},
   "outputs": [
    {
     "data": {
      "text/html": [
       "<div>\n",
       "<style scoped>\n",
       "    .dataframe tbody tr th:only-of-type {\n",
       "        vertical-align: middle;\n",
       "    }\n",
       "\n",
       "    .dataframe tbody tr th {\n",
       "        vertical-align: top;\n",
       "    }\n",
       "\n",
       "    .dataframe thead th {\n",
       "        text-align: right;\n",
       "    }\n",
       "</style>\n",
       "<table border=\"1\" class=\"dataframe\">\n",
       "  <thead>\n",
       "    <tr style=\"text-align: right;\">\n",
       "      <th></th>\n",
       "      <th>sub</th>\n",
       "      <th>model</th>\n",
       "      <th>theta</th>\n",
       "      <th>phi</th>\n",
       "      <th>SSE</th>\n",
       "      <th>AIC</th>\n",
       "    </tr>\n",
       "  </thead>\n",
       "  <tbody>\n",
       "    <tr>\n",
       "      <th>0</th>\n",
       "      <td>1</td>\n",
       "      <td>GR</td>\n",
       "      <td>NaN</td>\n",
       "      <td>NaN</td>\n",
       "      <td>7533.0</td>\n",
       "      <td>349.319963</td>\n",
       "    </tr>\n",
       "    <tr>\n",
       "      <th>1</th>\n",
       "      <td>1</td>\n",
       "      <td>GA</td>\n",
       "      <td>356.529191</td>\n",
       "      <td>NaN</td>\n",
       "      <td>756.0</td>\n",
       "      <td>176.595411</td>\n",
       "    </tr>\n",
       "    <tr>\n",
       "      <th>2</th>\n",
       "      <td>1</td>\n",
       "      <td>IA</td>\n",
       "      <td>251.378808</td>\n",
       "      <td>NaN</td>\n",
       "      <td>169.0</td>\n",
       "      <td>62.736568</td>\n",
       "    </tr>\n",
       "    <tr>\n",
       "      <th>3</th>\n",
       "      <td>1</td>\n",
       "      <td>MP</td>\n",
       "      <td>0.022657</td>\n",
       "      <td>0.000664</td>\n",
       "      <td>130.0</td>\n",
       "      <td>44.796884</td>\n",
       "    </tr>\n",
       "    <tr>\n",
       "      <th>4</th>\n",
       "      <td>1</td>\n",
       "      <td>MP_ppSOE</td>\n",
       "      <td>0.067945</td>\n",
       "      <td>0.001722</td>\n",
       "      <td>164.0</td>\n",
       "      <td>62.454115</td>\n",
       "    </tr>\n",
       "  </tbody>\n",
       "</table>\n",
       "</div>"
      ],
      "text/plain": [
       "   sub     model       theta       phi     SSE         AIC\n",
       "0    1        GR         NaN       NaN  7533.0  349.319963\n",
       "1    1        GA  356.529191       NaN   756.0  176.595411\n",
       "2    1        IA  251.378808       NaN   169.0   62.736568\n",
       "3    1        MP    0.022657  0.000664   130.0   44.796884\n",
       "4    1  MP_ppSOE    0.067945  0.001722   164.0   62.454115"
      ]
     },
     "execution_count": 3,
     "metadata": {},
     "output_type": "execute_result"
    }
   ],
   "source": [
    "repModelFits = pd.read_csv(os.path.join(base_dir,'Data/7.BehavioralReplication'+\n",
    "                                  '/ModelFits.csv'),\n",
    "                    header=0,index_col=0)\n",
    "repModelFits.head()"
   ]
  },
  {
   "cell_type": "code",
   "execution_count": 4,
   "metadata": {},
   "outputs": [
    {
     "data": {
      "text/html": [
       "<div>\n",
       "<style scoped>\n",
       "    .dataframe tbody tr th:only-of-type {\n",
       "        vertical-align: middle;\n",
       "    }\n",
       "\n",
       "    .dataframe tbody tr th {\n",
       "        vertical-align: top;\n",
       "    }\n",
       "\n",
       "    .dataframe thead th {\n",
       "        text-align: right;\n",
       "    }\n",
       "</style>\n",
       "<table border=\"1\" class=\"dataframe\">\n",
       "  <thead>\n",
       "    <tr style=\"text-align: right;\">\n",
       "      <th></th>\n",
       "      <th>sub</th>\n",
       "      <th>baseMult</th>\n",
       "      <th>model</th>\n",
       "      <th>theta</th>\n",
       "      <th>phi</th>\n",
       "      <th>SSE</th>\n",
       "      <th>AIC</th>\n",
       "      <th>BIC</th>\n",
       "      <th>time</th>\n",
       "      <th>clust</th>\n",
       "      <th>ClustName</th>\n",
       "    </tr>\n",
       "  </thead>\n",
       "  <tbody>\n",
       "    <tr>\n",
       "      <th>0</th>\n",
       "      <td>1</td>\n",
       "      <td>4</td>\n",
       "      <td>MP_ppSOE</td>\n",
       "      <td>0.067945</td>\n",
       "      <td>0.001722</td>\n",
       "      <td>164.0</td>\n",
       "      <td>62.454115</td>\n",
       "      <td>67.115581</td>\n",
       "      <td>1094.875217</td>\n",
       "      <td>2</td>\n",
       "      <td>MO</td>\n",
       "    </tr>\n",
       "    <tr>\n",
       "      <th>1</th>\n",
       "      <td>2</td>\n",
       "      <td>4</td>\n",
       "      <td>MP_ppSOE</td>\n",
       "      <td>0.496520</td>\n",
       "      <td>0.082632</td>\n",
       "      <td>0.0</td>\n",
       "      <td>-inf</td>\n",
       "      <td>-inf</td>\n",
       "      <td>1588.765513</td>\n",
       "      <td>0</td>\n",
       "      <td>GR</td>\n",
       "    </tr>\n",
       "    <tr>\n",
       "      <th>2</th>\n",
       "      <td>3</td>\n",
       "      <td>4</td>\n",
       "      <td>MP_ppSOE</td>\n",
       "      <td>0.029392</td>\n",
       "      <td>0.001509</td>\n",
       "      <td>582.0</td>\n",
       "      <td>158.716020</td>\n",
       "      <td>163.377487</td>\n",
       "      <td>1523.359156</td>\n",
       "      <td>3</td>\n",
       "      <td>IA</td>\n",
       "    </tr>\n",
       "    <tr>\n",
       "      <th>3</th>\n",
       "      <td>4</td>\n",
       "      <td>4</td>\n",
       "      <td>MP_ppSOE</td>\n",
       "      <td>0.103066</td>\n",
       "      <td>0.084852</td>\n",
       "      <td>289.0</td>\n",
       "      <td>105.512694</td>\n",
       "      <td>110.174161</td>\n",
       "      <td>1482.317685</td>\n",
       "      <td>3</td>\n",
       "      <td>IA</td>\n",
       "    </tr>\n",
       "    <tr>\n",
       "      <th>4</th>\n",
       "      <td>5</td>\n",
       "      <td>4</td>\n",
       "      <td>MP_ppSOE</td>\n",
       "      <td>0.025692</td>\n",
       "      <td>0.065856</td>\n",
       "      <td>106.0</td>\n",
       "      <td>29.285637</td>\n",
       "      <td>33.947104</td>\n",
       "      <td>1641.756111</td>\n",
       "      <td>3</td>\n",
       "      <td>IA</td>\n",
       "    </tr>\n",
       "  </tbody>\n",
       "</table>\n",
       "</div>"
      ],
      "text/plain": [
       "   sub  baseMult     model     theta       phi    SSE         AIC         BIC  \\\n",
       "0    1         4  MP_ppSOE  0.067945  0.001722  164.0   62.454115   67.115581   \n",
       "1    2         4  MP_ppSOE  0.496520  0.082632    0.0        -inf        -inf   \n",
       "2    3         4  MP_ppSOE  0.029392  0.001509  582.0  158.716020  163.377487   \n",
       "3    4         4  MP_ppSOE  0.103066  0.084852  289.0  105.512694  110.174161   \n",
       "4    5         4  MP_ppSOE  0.025692  0.065856  106.0   29.285637   33.947104   \n",
       "\n",
       "          time  clust ClustName  \n",
       "0  1094.875217      2        MO  \n",
       "1  1588.765513      0        GR  \n",
       "2  1523.359156      3        IA  \n",
       "3  1482.317685      3        IA  \n",
       "4  1641.756111      3        IA  "
      ]
     },
     "execution_count": 4,
     "metadata": {},
     "output_type": "execute_result"
    }
   ],
   "source": [
    "repClustering = pd.read_csv(os.path.join(base_dir,'Data/7.BehavioralReplication'+\n",
    "                                  '/ParticipantClustering.csv'),\n",
    "                    header=0,index_col=0)\n",
    "repClustering.head()"
   ]
  },
  {
   "cell_type": "markdown",
   "metadata": {},
   "source": [
    "## Similarity approach"
   ]
  },
  {
   "cell_type": "code",
   "execution_count": 5,
   "metadata": {},
   "outputs": [],
   "source": [
    "simFun = sklearn.metrics.pairwise.cosine_similarity"
   ]
  },
  {
   "cell_type": "code",
   "execution_count": 7,
   "metadata": {},
   "outputs": [
    {
     "name": "stdout",
     "output_type": "stream",
     "text": [
      "0 100 200 300 400 500 600 700 800 900 1000 1100 1200 1300 1400 1500 1600 1700 1800 1900 2000 2100 2200 2300 2400 2500 2600 2700 2800 2900 3000 3100 3200 3300 3400 3500 3600 3700 3800 3900 4000 4100 4200 4300 4400 4500 4600 4700 4800 4900 5000 5100 5200 5300 5400 5500 5600 5700 5800 5900 6000 6100 6200 6300 6400 6500 6600 6700 6800 6900 7000 7100 7200 7300 7400 7500 7600 7700 7800 7900 8000 8100 8200 8300 8400 8500 8600 8700 8800 8900 9000 9100 9200 9300 9400 9500 9600 9700 9800 9900\n"
     ]
    }
   ],
   "source": [
    "nChoice = 57\n",
    "nIter = 10000\n",
    "fullSet = range(len(np.unique(repClustering['sub'])))\n",
    "imgCounts = imgDat['ClustName'].value_counts()\n",
    "groups = imgCounts.index\n",
    "simsTrue = list()\n",
    "for i in range(nIter):\n",
    "    if np.mod(i,100) == 0:\n",
    "        print i,\n",
    "    # Bootstrap:\n",
    "    subSet = np.random.choice(fullSet,size=nChoice,replace=True)\n",
    "    repDatSample = repClustering.loc[repClustering['sub'].isin(subSet),:].copy().reset_index(drop=True)\n",
    "    repCounts = [sum(repDatSample.ClustName==group) for group in groups]\n",
    "    sim = simFun([imgCounts,repCounts])[0,1]\n",
    "    simsTrue.append(sim)\n",
    "# plt.hist(simsTrue)"
   ]
  },
  {
   "cell_type": "code",
   "execution_count": 8,
   "metadata": {},
   "outputs": [
    {
     "data": {
      "text/plain": [
       "(array([   4.,    8.,   48.,  123.,  305.,  660., 1254., 2086., 2944.,\n",
       "        2568.]),\n",
       " array([0.80620714, 0.825573  , 0.84493885, 0.8643047 , 0.88367056,\n",
       "        0.90303641, 0.92240226, 0.94176812, 0.96113397, 0.98049982,\n",
       "        0.99986568]),\n",
       " <a list of 10 Patch objects>)"
      ]
     },
     "execution_count": 8,
     "metadata": {},
     "output_type": "execute_result"
    },
    {
     "data": {
      "image/png": "[encoded data removed]",
      "text/plain": [
       "<Figure size 432x288 with 1 Axes>"
      ]
     },
     "metadata": {},
     "output_type": "display_data"
    }
   ],
   "source": [
    "plt.hist(simsTrue)"
   ]
  },
  {
   "cell_type": "markdown",
   "metadata": {},
   "source": [
    "#### Get null distribution (i.e. random samples with uniform distribution in population)"
   ]
  },
  {
   "cell_type": "code",
   "execution_count": 9,
   "metadata": {},
   "outputs": [
    {
     "name": "stdout",
     "output_type": "stream",
     "text": [
      "0 100 200 300 400 500 600 700 800 900 1000 1100 1200 1300 1400 1500 1600 1700 1800 1900 2000 2100 2200 2300 2400 2500 2600 2700 2800 2900 3000 3100 3200 3300 3400 3500 3600 3700 3800 3900 4000 4100 4200 4300 4400 4500 4600 4700 4800 4900 5000 5100 5200 5300 5400 5500 5600 5700 5800 5900 6000 6100 6200 6300 6400 6500 6600 6700 6800 6900 7000 7100 7200 7300 7400 7500 7600 7700 7800 7900 8000 8100 8200 8300 8400 8500 8600 8700 8800 8900 9000 9100 9200 9300 9400 9500 9600 9700 9800 9900\n"
     ]
    }
   ],
   "source": [
    "import sklearn\n",
    "nChoice = 57\n",
    "nIter = 10000\n",
    "imgCounts = imgDat['ClustName'].value_counts()\n",
    "groups = imgCounts.index\n",
    "simsNull = list()\n",
    "for i in range(nIter):\n",
    "    if np.mod(i,100) == 0:\n",
    "        print i,\n",
    "    nums = np.random.random(size=nChoice)\n",
    "    repCounts = np.random.multinomial(nChoice,pvals= [.25,.25,.25,.25])\n",
    "    sim = simFun([imgCounts,repCounts])[0,1]\n",
    "    simsNull.append(sim)"
   ]
  },
  {
   "cell_type": "code",
   "execution_count": 10,
   "metadata": {},
   "outputs": [
    {
     "data": {
      "text/plain": [
       "(array([2.000e+00, 1.000e+01, 6.600e+01, 2.350e+02, 6.520e+02, 1.477e+03,\n",
       "        2.366e+03, 2.874e+03, 1.853e+03, 4.650e+02]),\n",
       " array([0.51058303, 0.55848432, 0.60638561, 0.6542869 , 0.70218819,\n",
       "        0.75008948, 0.79799077, 0.84589206, 0.89379335, 0.94169464,\n",
       "        0.98959593]),\n",
       " <a list of 10 Patch objects>)"
      ]
     },
     "execution_count": 10,
     "metadata": {},
     "output_type": "execute_result"
    },
    {
     "data": {
      "image/png": "[encoded data removed]",
      "text/plain": [
       "<Figure size 432x288 with 1 Axes>"
      ]
     },
     "metadata": {},
     "output_type": "display_data"
    }
   ],
   "source": [
    "plt.hist(simsNull)"
   ]
  },
  {
   "cell_type": "markdown",
   "metadata": {},
   "source": [
    "#### Compare distributions"
   ]
  },
  {
   "cell_type": "code",
   "execution_count": 11,
   "metadata": {
    "scrolled": true
   },
   "outputs": [
    {
     "name": "stdout",
     "output_type": "stream",
     "text": [
      "0.0143\n"
     ]
    },
    {
     "data": {
      "image/png": "[encoded data removed]",
      "text/plain": [
       "<Figure size 432x288 with 1 Axes>"
      ]
     },
     "metadata": {},
     "output_type": "display_data"
    }
   ],
   "source": [
    "plt.hist(simsNull,alpha=.5,bins=30)\n",
    "plt.hist(simsTrue,alpha=.5,color='red',bins=30)\n",
    "plt.plot([np.mean(simsTrue),np.mean(simsTrue)],[plt.ylim()[0],plt.ylim()[1]],\n",
    "         'r:',lineWidth=3)\n",
    "plt.legend(labels=['Replication sample','Uniform multinomial distribution',])\n",
    "plt.title('Similarity in strategy prevalence')\n",
    "pval = np.mean(simsNull>np.mean(simsTrue))\n",
    "plt.text(np.mean(simsTrue),plt.ylim()[1],'p = %.3f'%pval,horizontalalignment='center')\n",
    "plt.ylim([0,plt.ylim()[1]*1.1])\n",
    "plt.xlabel('Cosine similarity')\n",
    "plt.ylabel('Frequency')\n",
    "print(pval)\n",
    "plt.savefig(os.path.join(base_dir,'Results/2.Behavior-ClusterModel/ComparePrevalenceReplication.pdf'),\n",
    "           bbox_inches='tight',transparent=True)"
   ]
  },
  {
   "cell_type": "markdown",
   "metadata": {},
   "source": [
    "## Plot normalized distributions"
   ]
  },
  {
   "cell_type": "code",
   "execution_count": 12,
   "metadata": {},
   "outputs": [
    {
     "data": {
      "text/html": [
       "<div>\n",
       "<style scoped>\n",
       "    .dataframe tbody tr th:only-of-type {\n",
       "        vertical-align: middle;\n",
       "    }\n",
       "\n",
       "    .dataframe tbody tr th {\n",
       "        vertical-align: top;\n",
       "    }\n",
       "\n",
       "    .dataframe thead th {\n",
       "        text-align: right;\n",
       "    }\n",
       "</style>\n",
       "<table border=\"1\" class=\"dataframe\">\n",
       "  <thead>\n",
       "    <tr style=\"text-align: right;\">\n",
       "      <th></th>\n",
       "      <th>img</th>\n",
       "      <th>rep</th>\n",
       "    </tr>\n",
       "    <tr>\n",
       "      <th>group</th>\n",
       "      <th></th>\n",
       "      <th></th>\n",
       "    </tr>\n",
       "  </thead>\n",
       "  <tbody>\n",
       "    <tr>\n",
       "      <th>IA</th>\n",
       "      <td>42.105263</td>\n",
       "      <td>30.769231</td>\n",
       "    </tr>\n",
       "    <tr>\n",
       "      <th>MO</th>\n",
       "      <td>36.842105</td>\n",
       "      <td>45.192308</td>\n",
       "    </tr>\n",
       "    <tr>\n",
       "      <th>GR</th>\n",
       "      <td>12.280702</td>\n",
       "      <td>15.384615</td>\n",
       "    </tr>\n",
       "    <tr>\n",
       "      <th>GA</th>\n",
       "      <td>8.771930</td>\n",
       "      <td>8.653846</td>\n",
       "    </tr>\n",
       "  </tbody>\n",
       "</table>\n",
       "</div>"
      ],
      "text/plain": [
       "             img        rep\n",
       "group                      \n",
       "IA     42.105263  30.769231\n",
       "MO     36.842105  45.192308\n",
       "GR     12.280702  15.384615\n",
       "GA      8.771930   8.653846"
      ]
     },
     "execution_count": 12,
     "metadata": {},
     "output_type": "execute_result"
    }
   ],
   "source": [
    "imgCounts = pd.DataFrame(imgDat['ClustName'].value_counts()).reset_index()\n",
    "repCounts = pd.DataFrame(repClustering['ClustName'].value_counts()).reset_index()\n",
    "both = imgCounts.merge(repCounts,on='index')\n",
    "both.columns = ['group','img','rep']\n",
    "both_perc = both.copy()\n",
    "for i in [1,2]:\n",
    "    both_perc.iloc[:,i] = (both_perc.iloc[:,i]/sum(both_perc.iloc[:,i])*100)\n",
    "both_perc = both_perc.set_index('group')\n",
    "both_perc"
   ]
  },
  {
   "cell_type": "code",
   "execution_count": 13,
   "metadata": {},
   "outputs": [
    {
     "data": {
      "image/png": "[encoded data removed]",
      "text/plain": [
       "<Figure size 432x288 with 1 Axes>"
      ]
     },
     "metadata": {},
     "output_type": "display_data"
    }
   ],
   "source": [
    "ax = both_perc.T.plot(kind='bar',stacked=True,colormap='summer')\n",
    "plt.legend(loc=[1.1,.5])\n",
    "ax.set_xticklabels(['Imaging study','Replication'],rotation=0)\n",
    "plt.title('Moral strategy distribution')\n",
    "plt.ylabel('Percentage')\n",
    "plt.savefig(os.path.join(base_dir,'Results/2.Behavior-ClusterModel/ComparePrevalenceReplication_stackBar.pdf'),\n",
    "           bbox_inches='tight',transparent=True)"
   ]
  },
  {
   "cell_type": "markdown",
   "metadata": {},
   "source": [
    "#### Distributions and test side-by-side:"
   ]
  },
  {
   "cell_type": "code",
   "execution_count": 14,
   "metadata": {},
   "outputs": [
    {
     "data": {
      "image/png": "[encoded data removed]",
      "text/plain": [
       "<Figure size 720x288 with 2 Axes>"
      ]
     },
     "metadata": {},
     "output_type": "display_data"
    }
   ],
   "source": [
    "fig, ax = plt.subplots(1,2,figsize=[10,4])\n",
    "\n",
    "out = both_perc.T.plot(kind='bar',stacked=True,colormap='summer',ax=ax[0])\n",
    "ax[0].set_xticklabels(['Imaging study','Behavioral replication'],rotation=0)\n",
    "ax[0].set_title('Moral strategy prevalence')\n",
    "ax[0].set_ylabel('Percentage')\n",
    "handles, labels = ax[0].get_legend_handles_labels()\n",
    "ax[0].legend(handles[::-1], labels[::-1], title='Group')\n",
    "\n",
    "ax[1].hist(simsNull,alpha=.5,bins=30)\n",
    "ax[1].hist(simsTrue,alpha=.5,color='red',bins=30)\n",
    "ax[1].plot([np.mean(simsTrue),np.mean(simsTrue)],[plt.ylim()[0],plt.ylim()[1]],\n",
    "         'r:',lineWidth=3)\n",
    "ax[1].legend(labels=['Replication sample','Uniform multinomial\\ndistribution',])\n",
    "ax[1].set_title('Similarity in strategy prevalence to imaging study')\n",
    "pval = np.mean(simsNull>np.mean(simsTrue))\n",
    "ax[1].text(np.mean(simsTrue),plt.ylim()[1],'p = %.3f'%pval,horizontalalignment='center')\n",
    "ax[1].set_ylim([0,ax[1].get_ylim()[1]*1.1])\n",
    "ax[1].set_xlabel('Cosine similarity')\n",
    "ax[1].set_ylabel('Frequency')\n",
    "\n",
    "plt.tight_layout()\n",
    "plt.savefig(os.path.join(base_dir,\n",
    "     'Results/2.Behavior-ClusterModel/ComparePrevalenceReplication_barsAndTest.pdf'),\n",
    "           bbox_inches='tight',transparent=True)"
   ]
  },
  {
   "cell_type": "code",
   "execution_count": 15,
   "metadata": {},
   "outputs": [
    {
     "data": {
      "text/plain": [
       "0.9589351130085615"
      ]
     },
     "execution_count": 15,
     "metadata": {},
     "output_type": "execute_result"
    }
   ],
   "source": [
    "np.mean(simsTrue)"
   ]
  },
  {
   "cell_type": "markdown",
   "metadata": {},
   "source": [
    "#### WIth model fits (supp fig 4)"
   ]
  },
  {
   "cell_type": "code",
   "execution_count": 19,
   "metadata": {},
   "outputs": [
    {
     "data": {
      "image/png": "[encoded data removed]",
      "text/plain": [
       "<Figure size 1008x324 with 3 Axes>"
      ]
     },
     "metadata": {},
     "output_type": "display_data"
    }
   ],
   "source": [
    "sns.set_context('notebook')\n",
    "\n",
    "fig, ax = plt.subplots(1,3,figsize=[14,4.5])\n",
    "\n",
    "metric = 'AIC'\n",
    "order = ['GR','GA','IA','MP_ppSOE']\n",
    "sns.barplot(data=repModelFits.loc[repModelFits['SSE']>10],x='model',y=metric,ax=ax[0],\n",
    "            alpha=1,errwidth=0,zorder=1,order=order,color='w',edgecolor='k',linewidth=1)\n",
    "sns.swarmplot(data=repModelFits.loc[repModelFits['SSE']>10],x='model',y=metric,ax=ax[0],\n",
    "              alpha=.5,s=3,zorder=2,order=order,color='k')\n",
    "sns.barplot(data=repModelFits.loc[repModelFits['SSE']>10],x='model',y=metric,ax=ax[0],\n",
    "            alpha=0,errwidth=1.5,capsize=.1,errcolor='k',zorder=3,\n",
    "            order=order)\n",
    "ax[0].set_xticklabels(['GR','GA','IA','MS'])\n",
    "ax[0].set_xlabel('Model')\n",
    "ax[0].set_title('Model comparisons')\n",
    "FigureTools.add_sig_markers(ax[0],relationships=[[2,3,0.0095],[1,3,0],[0,3,0]],\n",
    "                            ystart=360,distScale=1)\n",
    "\n",
    "# #\n",
    "out = both_perc.T.plot(kind='bar',stacked=True,colormap='summer',ax=ax[1])\n",
    "ax[1].set_xticklabels(['Imaging study','Behavioral replication'],rotation=0)\n",
    "ax[1].set_title('Moral strategy prevalence')\n",
    "ax[1].set_ylabel('Percentage')\n",
    "handles, labels = ax[1].get_legend_handles_labels()\n",
    "ax[1].legend(handles[::-1], labels[::-1], title='Group')\n",
    "\n",
    "ax[2].hist(simsNull,alpha=.5,bins=30)\n",
    "ax[2].hist(simsTrue,alpha=.5,color='red',bins=30)\n",
    "ax[2].plot([np.mean(simsTrue),np.mean(simsTrue)],[plt.ylim()[0],plt.ylim()[1]],\n",
    "         'r:',lineWidth=3)\n",
    "ax[2].legend(labels=['Replication sample','Uniform multinomial\\ndistribution',])\n",
    "ax[2].set_title('Similarity in strategy prevalence to imaging study')\n",
    "pval = np.mean(simsNull>np.mean(simsTrue))\n",
    "ax[2].text(np.mean(simsTrue),plt.ylim()[1],'p = %.3f'%pval,horizontalalignment='center')\n",
    "ax[2].set_ylim([0,ax[2].get_ylim()[1]*1.1])\n",
    "ax[2].set_xlabel('Cosine similarity')\n",
    "ax[2].set_ylabel('Frequency')\n",
    "\n",
    "plt.suptitle('Replication dataset (n = 102)',y = 1.05,fontsize=16);\n",
    "FigureTools.add_subplot_letter(ax[0],'A',x_shift=1,fontsize=16)\n",
    "FigureTools.add_subplot_letter(ax[1],'B',x_shift=.9,fontsize=16)\n",
    "FigureTools.add_subplot_letter(ax[2],'C',x_shift=.9,fontsize=16)\n",
    "plt.tight_layout()\n",
    "plt.savefig(os.path.join(base_dir,\n",
    "     'Results/2.Behavior-ClusterModel/AllReplicationResults.pdf'),\n",
    "           bbox_inches='tight',transparent=True)"
   ]
  },
  {
   "cell_type": "markdown",
   "metadata": {},
   "source": [
    "## Chi-square test"
   ]
  },
  {
   "cell_type": "code",
   "execution_count": 17,
   "metadata": {},
   "outputs": [
    {
     "data": {
      "text/plain": [
       "array([[24, 21,  7,  5],\n",
       "       [32, 47, 16,  9]])"
      ]
     },
     "execution_count": 17,
     "metadata": {},
     "output_type": "execute_result"
    }
   ],
   "source": [
    "obs = np.array(both[['img','rep']]).T\n",
    "obs"
   ]
  },
  {
   "cell_type": "code",
   "execution_count": 18,
   "metadata": {},
   "outputs": [
    {
     "name": "stdout",
     "output_type": "stream",
     "text": [
      "Chi-square = 2.22, df = 3, p = 0.5286\n"
     ]
    }
   ],
   "source": [
    "stats = ss.chi2_contingency(obs)\n",
    "print('Chi-square = %.2f, df = %i, p = %.4f'%(stats[0],stats[2],stats[1]))"
   ]
  },
  {
   "cell_type": "code",
   "execution_count": null,
   "metadata": {},
   "outputs": [],
   "source": []
  }
 ],
 "metadata": {
  "anaconda-cloud": {},
  "kernelspec": {
   "display_name": "Python 2",
   "language": "python",
   "name": "python2"
  },
  "language_info": {
   "codemirror_mode": {
    "name": "ipython",
    "version": 2
   },
   "file_extension": ".py",
   "mimetype": "text/x-python",
   "name": "python",
   "nbconvert_exporter": "python",
   "pygments_lexer": "ipython2",
   "version": "2.7.15"
  },
  "toc": {
   "nav_menu": {
    "height": "30px",
    "width": "252px"
   },
   "navigate_menu": true,
   "number_sections": true,
   "sideBar": true,
   "threshold": 4,
   "toc_cell": false,
   "toc_section_display": "block",
   "toc_window_display": false
  }
 },
 "nbformat": 4,
 "nbformat_minor": 1
}
