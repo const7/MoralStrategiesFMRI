{
 "cells": [
  {
   "cell_type": "markdown",
   "metadata": {},
   "source": [
    "Code to simulate the winning utility model (Moral Strategy Model) at parametrizations throughout the model's parameter space (theta-phi space). These simulations are used later to draw strategy boundaries in the parameter space."
   ]
  },
  {
   "cell_type": "code",
   "execution_count": 3,
   "metadata": {},
   "outputs": [],
   "source": [
    "%matplotlib inline\n",
    "import os, glob, sys, warnings, scipy\n",
    "warnings.filterwarnings('always') # To filter numpy dtype warning\n",
    "\n",
    "import numpy as np\n",
    "import pandas as pd\n",
    "from scipy import stats as ss\n",
    "import matplotlib.pyplot as plt\n",
    "import seaborn as sns\n",
    "\n",
    "sys.path.append('/project/3014018.02/analysis_mri/'+\n",
    "                'DataSharingCollection/Code/1.Behavior-FitModels/Functions/')\n",
    "import choiceModels, costFunctions, penalizedModelFit\n",
    "\n",
    "base_dir = '/project/3014018.02/analysis_mri/DataSharingCollection/'"
   ]
  },
  {
   "cell_type": "markdown",
   "metadata": {},
   "source": [
    "## Define functions"
   ]
  },
  {
   "cell_type": "code",
   "execution_count": 2,
   "metadata": {},
   "outputs": [],
   "source": [
    "def simulate_data(theta=.25, phi=0):\n",
    "    investment = np.arange(1,11,1)\n",
    "    all_out = pd.DataFrame()\n",
    "    for multiplier in [2,4,6]:\n",
    "        out = pd.DataFrame({'Investment':investment})\n",
    "        out['Predicted'] = np.array([choiceModels.MP_model_ppSOE(x,multiplier,4*x/2,theta,phi)\n",
    "                                     for x in out['Investment']]).flatten()\n",
    "        out['Multiplier'] = multiplier\n",
    "        out['Theta'] = theta\n",
    "        out['Phi'] = phi\n",
    "        out['Expectation'] = 4*investment/2\n",
    "        all_out = all_out.append(out)\n",
    "    return all_out"
   ]
  },
  {
   "cell_type": "markdown",
   "metadata": {},
   "source": [
    "## Prep simulation space"
   ]
  },
  {
   "cell_type": "code",
   "execution_count": 7,
   "metadata": {},
   "outputs": [
    {
     "name": "stdout",
     "output_type": "stream",
     "text": [
      "[-0.1   -0.098 -0.096 -0.094 -0.092 -0.09  -0.088 -0.086 -0.084 -0.082]\n",
      "[0.082 0.084 0.086 0.088 0.09  0.092 0.094 0.096 0.098 0.1  ]\n",
      "101\n",
      "101\n",
      "10201\n"
     ]
    }
   ],
   "source": [
    "# Create theta-phi space\n",
    "precision = 100\n",
    "decimals = int(np.log10(precision)+1)\n",
    "phi = np.around(np.arange(-0.1,0.10001,0.2/precision).astype('float'),decimals=decimals)#[-.1,0,.1]\n",
    "theta = np.around(np.arange(0,.50001,.5/precision).astype('float'),decimals=decimals)#[0,.1,.2,.3,.4,.5,.6]\n",
    "phiLen = len(phi)\n",
    "print phi[0:10]\n",
    "print phi[-10:]\n",
    "print phiLen\n",
    "thetaLen = len(theta)\n",
    "print thetaLen\n",
    "phi[np.floor(len(phi)/2).astype(int)]=0\n",
    "# print phi\n",
    "# print theta\n",
    "thetaPhi = np.repeat(theta,phiLen)\n",
    "thetaPhi = pd.DataFrame(thetaPhi)\n",
    "thetaPhi.columns = ['theta']\n",
    "thetaPhi['phi'] = np.tile(phi,thetaLen)\n",
    "# print thetaPhi\n",
    "print len(thetaPhi)"
   ]
  },
  {
   "cell_type": "code",
   "execution_count": 20,
   "metadata": {},
   "outputs": [],
   "source": [
    "thetaPhi.to_csv(os.path.join(base_dir,\n",
    "                        'Results/2.Behavior-ClusterModel/ThetaPhi_%i-by-%i.csv'%(\n",
    "                        thetaLen,phiLen)))"
   ]
  },
  {
   "cell_type": "markdown",
   "metadata": {},
   "source": [
    "## Draw 101x101 simulations"
   ]
  },
  {
   "cell_type": "code",
   "execution_count": 34,
   "metadata": {},
   "outputs": [
    {
     "name": "stdout",
     "output_type": "stream",
     "text": [
      "0 100 200 300 400 500 600 700 800 900 1000 1100 1200 1300 1400 1500 1600 1700 1800 1900 2000 2100 2200 2300 2400 2500 2600 2700 2800 2900 3000 3100 3200 3300 3400 3500 3600 3700 3800 3900 4000 4100 4200 4300 4400 4500 4600 4700 4800 4900 5000 5100 5200 5300 5400 5500 5600 5700 5800 5900 6000 6100 6200 6300 6400 6500 6600 6700 6800 6900 7000 7100 7200 7300 7400 7500 7600 7700 7800 7900 8000 8100 8200 8300 8400 8500 8600 8700 8800 8900 9000 9100 9200 9300 9400 9500 9600 9700 9800 9900 10000 10100 10200 (10201, 30)\n",
      "(10201, 76)\n"
     ]
    }
   ],
   "source": [
    "# Run simulations\n",
    "trialSet = pd.read_csv(os.path.join(base_dir,'Data/1.TaskBehavior/trialSet.csv'),index_col=0)\n",
    "uniqueTrialSet = trialSet.drop_duplicates().reset_index(drop=True)\n",
    "simulations = np.zeros((len(thetaPhi),uniqueTrialSet.shape[0]))\n",
    "simulations_long = np.zeros((len(thetaPhi),trialSet.shape[0]))\n",
    "for i in range(len(thetaPhi)):\n",
    "    if np.mod(i,100) == 0:\n",
    "        print i,\n",
    "    theta = thetaPhi.iloc[i,0] #Watch out here: take the right index depending on the 'outer-inner' structure of thetaPhi\n",
    "    phi = thetaPhi.iloc[i,1]\n",
    "    singleSim = simulate_data(theta=theta,phi=phi)\n",
    "    simulations[i,:] = singleSim['Predicted']\n",
    "    simulations_long[i,:] = trialSet.merge(singleSim,on=['Investment','Multiplier'])['Predicted'] # Expand to full trial set\n",
    "print simulations.shape\n",
    "print simulations_long.shape"
   ]
  },
  {
   "cell_type": "code",
   "execution_count": 35,
   "metadata": {},
   "outputs": [],
   "source": [
    "pd.DataFrame(simulations).to_csv(os.path.join(base_dir,\n",
    "                        'Results/2.Behavior-ClusterModel/ModelSimulations_%i-by-%i.csv'%(\n",
    "                        thetaLen,phiLen)))"
   ]
  },
  {
   "cell_type": "code",
   "execution_count": 36,
   "metadata": {},
   "outputs": [],
   "source": [
    "pd.DataFrame(simulations_long).to_csv(os.path.join(base_dir,\n",
    "                        'Results/2.Behavior-ClusterModel/ModelSimulations_long_%i-by-%i.csv'%(\n",
    "                        thetaLen,phiLen)))"
   ]
  },
  {
   "cell_type": "code",
   "execution_count": null,
   "metadata": {},
   "outputs": [],
   "source": []
  }
 ],
 "metadata": {
  "kernelspec": {
   "display_name": "Python 2",
   "language": "python",
   "name": "python2"
  },
  "language_info": {
   "codemirror_mode": {
    "name": "ipython",
    "version": 2
   },
   "file_extension": ".py",
   "mimetype": "text/x-python",
   "name": "python",
   "nbconvert_exporter": "python",
   "pygments_lexer": "ipython2",
   "version": "2.7.15"
  }
 },
 "nbformat": 4,
 "nbformat_minor": 2
}
