{
 "cells": [
  {
   "cell_type": "markdown",
   "metadata": {},
   "source": [
    "Code to cluster participants by labeling their position in the model parameter space."
   ]
  },
  {
   "cell_type": "code",
   "execution_count": 1,
   "metadata": {
    "ExecuteTime": {
     "end_time": "2017-01-18T22:17:22.559876",
     "start_time": "2017-01-18T22:17:21.409416"
    }
   },
   "outputs": [],
   "source": [
    "%matplotlib inline\n",
    "from matplotlib import pyplot as plt\n",
    "import warnings\n",
    "warnings.filterwarnings(\"ignore\", message=\"numpy.dtype size changed\")\n",
    "import numpy as np\n",
    "import seaborn as sns\n",
    "import os\n",
    "import pandas as pd\n",
    "from scipy.stats import pearsonr\n",
    "from scipy.cluster.hierarchy import dendrogram, linkage\n",
    "import scipy\n",
    "import scipy.io\n",
    "\n",
    "import sys\n",
    "sys.path.append('/project/3014018.02/analysis_mri/'+\n",
    "                'DataSharingCollection/Code/1.Behavior-FitModels/Functions/')\n",
    "import choiceModels, costFunctions, penalizedModelFit\n",
    "\n",
    "base_dir = '/project/3014018.02/analysis_mri/DataSharingCollection/'"
   ]
  },
  {
   "cell_type": "markdown",
   "metadata": {},
   "source": [
    "## Label participants based on simulation clusters"
   ]
  },
  {
   "cell_type": "markdown",
   "metadata": {
    "scrolled": true
   },
   "source": [
    "#### Load fitted parameters"
   ]
  },
  {
   "cell_type": "code",
   "execution_count": 2,
   "metadata": {
    "scrolled": true
   },
   "outputs": [
    {
     "data": {
      "text/html": [
       "<div>\n",
       "<style scoped>\n",
       "    .dataframe tbody tr th:only-of-type {\n",
       "        vertical-align: middle;\n",
       "    }\n",
       "\n",
       "    .dataframe tbody tr th {\n",
       "        vertical-align: top;\n",
       "    }\n",
       "\n",
       "    .dataframe thead th {\n",
       "        text-align: right;\n",
       "    }\n",
       "</style>\n",
       "<table border=\"1\" class=\"dataframe\">\n",
       "  <thead>\n",
       "    <tr style=\"text-align: right;\">\n",
       "      <th></th>\n",
       "      <th>sub</th>\n",
       "      <th>model</th>\n",
       "      <th>theta</th>\n",
       "      <th>phi</th>\n",
       "      <th>SSE</th>\n",
       "      <th>AIC</th>\n",
       "      <th>BIC</th>\n",
       "    </tr>\n",
       "  </thead>\n",
       "  <tbody>\n",
       "    <tr>\n",
       "      <th>0</th>\n",
       "      <td>124</td>\n",
       "      <td>MP_ppSOE</td>\n",
       "      <td>0.340718</td>\n",
       "      <td>0.055082</td>\n",
       "      <td>65.0</td>\n",
       "      <td>-7.882301</td>\n",
       "      <td>-3.220835</td>\n",
       "    </tr>\n",
       "    <tr>\n",
       "      <th>1</th>\n",
       "      <td>126</td>\n",
       "      <td>MP_ppSOE</td>\n",
       "      <td>0.078473</td>\n",
       "      <td>0.000799</td>\n",
       "      <td>205.0</td>\n",
       "      <td>79.413025</td>\n",
       "      <td>84.074491</td>\n",
       "    </tr>\n",
       "    <tr>\n",
       "      <th>2</th>\n",
       "      <td>128</td>\n",
       "      <td>MP_ppSOE</td>\n",
       "      <td>0.030199</td>\n",
       "      <td>0.059205</td>\n",
       "      <td>255.0</td>\n",
       "      <td>96.000296</td>\n",
       "      <td>100.661762</td>\n",
       "    </tr>\n",
       "    <tr>\n",
       "      <th>3</th>\n",
       "      <td>129</td>\n",
       "      <td>MP_ppSOE</td>\n",
       "      <td>0.206195</td>\n",
       "      <td>-0.095803</td>\n",
       "      <td>203.0</td>\n",
       "      <td>78.667921</td>\n",
       "      <td>83.329387</td>\n",
       "    </tr>\n",
       "    <tr>\n",
       "      <th>4</th>\n",
       "      <td>130</td>\n",
       "      <td>MP_ppSOE</td>\n",
       "      <td>0.078536</td>\n",
       "      <td>-0.017041</td>\n",
       "      <td>323.0</td>\n",
       "      <td>113.965843</td>\n",
       "      <td>118.627309</td>\n",
       "    </tr>\n",
       "  </tbody>\n",
       "</table>\n",
       "</div>"
      ],
      "text/plain": [
       "   sub     model     theta       phi    SSE         AIC         BIC\n",
       "0  124  MP_ppSOE  0.340718  0.055082   65.0   -7.882301   -3.220835\n",
       "1  126  MP_ppSOE  0.078473  0.000799  205.0   79.413025   84.074491\n",
       "2  128  MP_ppSOE  0.030199  0.059205  255.0   96.000296  100.661762\n",
       "3  129  MP_ppSOE  0.206195 -0.095803  203.0   78.667921   83.329387\n",
       "4  130  MP_ppSOE  0.078536 -0.017041  323.0  113.965843  118.627309"
      ]
     },
     "execution_count": 2,
     "metadata": {},
     "output_type": "execute_result"
    }
   ],
   "source": [
    "fittedParams = pd.read_csv(os.path.join(base_dir,\n",
    "                     'Results/1.Behavior-FitModels/First_bests_all.csv'),\n",
    "                           index_col=0).reset_index(drop=True)\n",
    "model = 'MP_ppSOE'\n",
    "fittedParams = fittedParams.loc[fittedParams['model']==model]\n",
    "oldSubs = np.array(pd.read_csv(os.path.join(base_dir,'Data/subjectsIncluded_batch1.csv'),header=None,index_col=None))[0]\n",
    "newSubs = np.array(pd.read_csv(os.path.join(base_dir,'Data/subjectsIncluded_batch2.csv'),header=None,index_col=None))[0]\n",
    "fittedParams = fittedParams.loc[(fittedParams['sub'].isin(oldSubs)) | (fittedParams['sub'].isin(newSubs)),:]\n",
    "fittedParams = fittedParams.reset_index(drop=True)\n",
    "fittedParams.head()"
   ]
  },
  {
   "cell_type": "markdown",
   "metadata": {},
   "source": [
    "#### Load parameter space clustering"
   ]
  },
  {
   "cell_type": "code",
   "execution_count": 3,
   "metadata": {},
   "outputs": [],
   "source": [
    "# Clustering\n",
    "thetaLen = 101\n",
    "phiLen = 101\n",
    "metric_clustering = 'sqeuclidean'"
   ]
  },
  {
   "cell_type": "code",
   "execution_count": 4,
   "metadata": {},
   "outputs": [
    {
     "data": {
      "image/png": "[encoded data removed]",
      "text/plain": [
       "<Figure size 432x288 with 2 Axes>"
      ]
     },
     "metadata": {},
     "output_type": "display_data"
    }
   ],
   "source": [
    "# Load clustering\n",
    "sns.set_context('paper')\n",
    "thetaPhi = pd.read_csv(os.path.join(base_dir,'Results/2.Behavior-ClusterModel/SimulationClustering_%i-by-%i_%s.csv'%(\n",
    "    thetaLen,phiLen,metric_clustering)))\n",
    "thetaPhiPivot = thetaPhi.pivot('theta','phi','cluster').T\n",
    "# Define colors\n",
    "ncols = len(np.unique(thetaPhi['cluster']))\n",
    "sns.set_palette('tab10',ncols,desat=.8)\n",
    "weight_colorsByWhites = [3,1]\n",
    "colorMap = sns.color_palette()[0:ncols]\n",
    "colorMap = list(np.add(np.multiply(colorMap,weight_colorsByWhites[0]),\n",
    "                       np.multiply(np.ones([ncols,3]),weight_colorsByWhites[1]))\n",
    "                /sum(weight_colorsByWhites))\n",
    "ax = sns.heatmap(thetaPhiPivot,cmap=colorMap,square=True)\n",
    "plt.xlabel('Theta')\n",
    "plt.ylabel('Phi')\n",
    "plt.yticks(np.arange(1,phiLen+1,(phiLen-1)/10),['%.2f'%i for i in np.arange(-.1,.1001,2/(float(phiLen)-1))])\n",
    "plt.xticks(np.arange(1,thetaLen+1,(thetaLen-1)/10),['%.2f'%i for i in np.arange(0,.5001,5/(float(phiLen)-1))])\n",
    "plt.title('Clusters in parameter space')\n",
    "ax.invert_yaxis()\n",
    "key = {1:'GR',2:'GA',3:'IA',4:'MO'}"
   ]
  },
  {
   "cell_type": "markdown",
   "metadata": {},
   "source": [
    "#### Add cluster to subjects"
   ]
  },
  {
   "cell_type": "code",
   "execution_count": 5,
   "metadata": {},
   "outputs": [
    {
     "name": "stdout",
     "output_type": "stream",
     "text": [
      "   sub     model     theta       phi    SSE         AIC         BIC  clust  \\\n",
      "0  124  MP_ppSOE  0.340718  0.055082   65.0   -7.882301   -3.220835      1   \n",
      "1  126  MP_ppSOE  0.078473  0.000799  205.0   79.413025   84.074491      4   \n",
      "2  128  MP_ppSOE  0.030199  0.059205  255.0   96.000296  100.661762      3   \n",
      "3  129  MP_ppSOE  0.206195 -0.095803  203.0   78.667921   83.329387      4   \n",
      "4  130  MP_ppSOE  0.078536 -0.017041  323.0  113.965843  118.627309      4   \n",
      "\n",
      "  ClustName  \n",
      "0        GR  \n",
      "1        MO  \n",
      "2        IA  \n",
      "3        MO  \n",
      "4        MO  \n"
     ]
    }
   ],
   "source": [
    "fittedParams['clust'] = 0\n",
    "for i in range(len(fittedParams)):\n",
    "    thetaPhiDist = thetaPhi.copy()\n",
    "    thetaPhiDist['euclidist'] = np.sqrt(np.square(fittedParams['theta'][i] - thetaPhi['theta']) +\n",
    "                                        np.square(fittedParams['phi'][i] - thetaPhi['phi']))\n",
    "    nearest = np.where(thetaPhiDist['euclidist'] == min(thetaPhiDist['euclidist']))[0][0]\n",
    "    fittedParams.loc[i,'clust'] = thetaPhiDist['cluster'].iloc[nearest]\n",
    "fittedParams['ClustName'] = fittedParams['clust'].map(key)\n",
    "print fittedParams.head()\n",
    "fittedParams.to_csv(os.path.join(base_dir,'Results/2.ClusterModel/ParticipantClustering.csv'))"
   ]
  },
  {
   "cell_type": "code",
   "execution_count": 6,
   "metadata": {},
   "outputs": [
    {
     "data": {
      "text/plain": [
       "IA    24\n",
       "MO    21\n",
       "GR     7\n",
       "GA     5\n",
       "Name: ClustName, dtype: int64"
      ]
     },
     "execution_count": 6,
     "metadata": {},
     "output_type": "execute_result"
    }
   ],
   "source": [
    "fittedParams['ClustName'].value_counts()"
   ]
  },
  {
   "cell_type": "markdown",
   "metadata": {},
   "source": [
    "#### Plot participants scattered on parameter space (fig. 4A)"
   ]
  },
  {
   "cell_type": "code",
   "execution_count": 7,
   "metadata": {},
   "outputs": [
    {
     "name": "stdout",
     "output_type": "stream",
     "text": [
      "1 o 50\n",
      "2 * 100\n",
      "3 s 50\n",
      "4 d 75\n"
     ]
    },
    {
     "data": {
      "image/png": "[encoded data removed]",
      "text/plain": [
       "<Figure size 432x288 with 2 Axes>"
      ]
     },
     "metadata": {},
     "output_type": "display_data"
    }
   ],
   "source": [
    "sns.set_context('paper')\n",
    "fig = plt.figure()\n",
    "ax = fig.add_subplot(111, aspect='equal')\n",
    "sns.heatmap(thetaPhiPivot,ax=ax,cmap=colorMap)\n",
    "ax.set_title('Clusters in parameter space')\n",
    "ax.set_xlabel('Theta')\n",
    "ax.set_ylabel('Phi')\n",
    "plt.yticks(np.arange(1,phiLen+1,(phiLen-1)/10),['%.2f'%i for i in np.arange(-.1,.1001,2/(float(phiLen)-1))])\n",
    "plt.xticks(np.arange(1,thetaLen+1,(thetaLen-1)/10),['%.2f'%i for i in np.arange(0,.5001,5/(float(phiLen)-1))])\n",
    "ax.invert_yaxis()\n",
    "\n",
    "# Define translation of scatter plot onto heatmap space\n",
    "x_num = np.size(thetaPhiPivot,0)\n",
    "y_num = np.size(thetaPhiPivot,1)\n",
    "x_range = np.float(thetaPhiPivot.columns[x_num-1])-np.float(thetaPhiPivot.columns[0])\n",
    "y_range = np.float(thetaPhiPivot.index[y_num-1])-np.float(thetaPhiPivot.index[0])\n",
    "y_start = 0.1\n",
    "\n",
    "# Define \n",
    "GRind = key.values().index('GR')+1\n",
    "IAind = key.values().index('IA')+1\n",
    "MOind = key.values().index('MO')+1\n",
    "GAind = key.values().index('GA')+1\n",
    "markers = ['o','*','s','d']\n",
    "colors = sns.color_palette(\"tab10\", 4,desat=.9)\n",
    "edgecolors = np.divide(colorMap,1.5)\n",
    "sizes = [50,100,50,75]\n",
    "for i in np.arange(1,5,1):\n",
    "    listInd = i-1\n",
    "    marker = markers[listInd]; color = colors[listInd];\n",
    "    size = sizes[listInd]; edgecolor = edgecolors[listInd];\n",
    "    print i,marker,size\n",
    "    thetaCur = fittedParams['theta'][fittedParams['clust']==i]\n",
    "    phiCur = fittedParams['phi'][fittedParams['clust']==i]\n",
    "    ax.scatter(x=.5+thetaCur/x_range*(x_num-1)+np.random.rand(1),y=.5+(y_start+phiCur)/y_range*(y_num-1),\n",
    "               marker=marker,color=color,edgecolor=edgecolor,s=size,lw=1)\n",
    "plt.savefig(os.path.join(base_dir,'Results/2.Behavior-ClusterModel/ClusterMap_Participants.pdf'),\n",
    "            bbox_inches='tight')"
   ]
  },
  {
   "cell_type": "code",
   "execution_count": null,
   "metadata": {},
   "outputs": [],
   "source": []
  }
 ],
 "metadata": {
  "anaconda-cloud": {},
  "kernelspec": {
   "display_name": "Python 2",
   "language": "python",
   "name": "python2"
  },
  "language_info": {
   "codemirror_mode": {
    "name": "ipython",
    "version": 2
   },
   "file_extension": ".py",
   "mimetype": "text/x-python",
   "name": "python",
   "nbconvert_exporter": "python",
   "pygments_lexer": "ipython2",
   "version": "2.7.15"
  },
  "toc": {
   "nav_menu": {
    "height": "30px",
    "width": "252px"
   },
   "navigate_menu": true,
   "number_sections": true,
   "sideBar": true,
   "threshold": 4,
   "toc_cell": false,
   "toc_section_display": "block",
   "toc_window_display": false
  }
 },
 "nbformat": 4,
 "nbformat_minor": 1
}
